{
 "cells": [
  {
   "cell_type": "markdown",
   "metadata": {},
   "source": [
    "# WeatherPy\n",
    "----\n",
    "\n",
    "### Analysis\n",
    "* As expected, the weather becomes significantly warmer as one approaches the equator (0 Deg. Latitude). More interestingly, however, is the fact that the southern hemisphere tends to be warmer this time of year than the northern hemisphere. This may be due to the tilt of the earth.\n",
    "* There is no strong relationship between latitude and cloudiness. However, it is interesting to see that a strong band of cities sits at 0, 80, and 100% cloudiness.\n",
    "* There is no strong relationship between latitude and wind speed. However, in northern hemispheres there is a flurry of cities with over 20 mph of wind.\n",
    "\n",
    "---\n",
    "\n",
    "#### Note\n",
    "* Instructions have been included for each segment. You do not have to follow them exactly, but they are included to help you think through the steps."
   ]
  },
  {
   "cell_type": "code",
   "execution_count": 1,
   "metadata": {
    "scrolled": true
   },
   "outputs": [],
   "source": [
    "# Dependencies and Setup\n",
    "import matplotlib.pyplot as plt\n",
    "import pandas as pd\n",
    "import numpy as np\n",
    "import requests\n",
    "import time\n",
    "\n",
    "\n",
    "# pip install citipy\n",
    "\n",
    "\n",
    "# Import API key\n",
    "# from config import api_keys\n",
    "import api_keys\n",
    "\n",
    "# \n",
    "# citipy = \"https://pypi.python.org/pypi/citipy\"\n",
    "# https://openweathermap.org/api\n",
    "\n",
    "# Incorporated citipy to determine city based on latitude and longitude\n",
    "from citipy import citipy\n",
    "\n",
    "# Output File (CSV)\n",
    "output_data_file = \"output_data/cities.csv\"\n",
    "\n",
    "# Range of latitudes and longitudes\n",
    "lat_range = (-90, 90)\n",
    "lng_range = (-180, 180)"
   ]
  },
  {
   "cell_type": "code",
   "execution_count": null,
   "metadata": {},
   "outputs": [],
   "source": []
  },
  {
   "cell_type": "markdown",
   "metadata": {},
   "source": [
    "## Generate Cities List"
   ]
  },
  {
   "cell_type": "code",
   "execution_count": 2,
   "metadata": {},
   "outputs": [
    {
     "data": {
      "text/plain": [
       "608"
      ]
     },
     "execution_count": 2,
     "metadata": {},
     "output_type": "execute_result"
    }
   ],
   "source": [
    "# List for holding lat_lngs and cities\n",
    "lat_lngs = []\n",
    "cities = []\n",
    "\n",
    "# Create a set of random lat and lng combinations\n",
    "lats = np.random.uniform(low=-90.000, high=90.000, size=1500)\n",
    "lngs = np.random.uniform(low=-180.000, high=180.000, size=1500)\n",
    "lat_lngs = zip(lats, lngs)\n",
    "\n",
    "# Identify nearest city for each lat, lng combination\n",
    "for lat_lng in lat_lngs:\n",
    "    city = citipy.nearest_city(lat_lng[0], lat_lng[1]).city_name\n",
    "    \n",
    "    # If the city is unique, then add it to a our cities list\n",
    "    if city not in cities:\n",
    "        cities.append(city)\n",
    "\n",
    "# Print the city count to confirm sufficient count\n",
    "len(cities)"
   ]
  },
  {
   "cell_type": "code",
   "execution_count": 3,
   "metadata": {
    "scrolled": true
   },
   "outputs": [
    {
     "name": "stdout",
     "output_type": "stream",
     "text": [
      "['paciran', 'lakes entrance', 'yellowknife', 'cernay', 'mataura', 'tiksi', 'khatanga', 'georgetown', 'fianarantsoa', 'don benito', 'punta arenas', 'barabinsk', 'vostok', 'yichang', 'jamestown', 'dunedin', 'okhotsk', 'bonavista', 'carutapera', 'avarua', 'bluff', 'ushuaia', 'hofn', 'tumannyy', 'ribeira grande', 'bijar', 'albany', 'hermanus', 'sitka', 'kapaa', 'vardo', 'cape town', 'sisimiut', 'vaini', 'narsaq', 'chapada dos guimaraes', 'barrow', 'lompoc', 'grand gaube', 'lata', 'sabang', 'vaitupu', 'port elizabeth', 'richards bay', 'phan thiet', 'pevek', 'palabuhanratu', 'ulaanbaatar', 'saint-philippe', 'tiznit', 'salalah', 'westport', 'rikitea', 'bengkulu', 'bone', 'iqaluit', 'teguise', 'kangaba', 'ketchikan', 'arraial do cabo', 'kenai', 'grand river south east', 'taseyevo', 'port-gentil', 'porto novo', 'port hedland', 'geraldton', 'nikolskoye', 'florence', 'talnakh', 'provideniya', 'tran', 'doume', 'ituni', 'carnarvon', 'taolanaro', 'mar del plata', 'longyearbyen', 'saldanha', 'itoman', 'bathsheba', 'hobart', 'uray', 'tukrah', 'atuona', 'sobrance', 'bilibino', 'krasnoselkup', 'pershotravneve', 'ningan', 'lebu', 'kahului', 'petropavlovsk-kamchatskiy', 'santa cruz de la palma', 'sendhwa', 'sentyabrskiy', 'tsihombe', 'benjamin hill', 'bambous virieux', 'mahebourg', 'coquimbo', 'torbay', 'busselton', 'umzimvubu', 'faanui', 'east london', 'new norfolk', 'ostrovnoy', 'koroni', 'bredasdorp', 'san rafael', 'nishihara', 'soyo', 'thompson', 'severo-kurilsk', 'ronne', 'ahipara', 'armeria', 'tasiilaq', 'ust-kamchatsk', 'saskylakh', 'nouadhibou', 'malangwa', 'pangnirtung', 'meulaboh', 'beyneu', 'cayenne', 'qasigiannguit', 'mazagao', 'nazareno', 'ancud', 'nizhneyansk', 'punta alta', 'ornskoldsvik', 'gogrial', 'guerrero negro', 'verkhoyansk', 'sekiyado', 'lafayette', 'laguna', 'pangai', 'tatawin', 'yershov', 'saleaula', 'fukue', 'hurghada', 'portland', 'nome', 'puerto ayora', 'gboko', 'touros', 'husavik', 'nusaybin', 'kaseda', 'sao filipe', 'kavieng', 'namatanai', 'ballina', 'pisco', 'manassas', 'chuy', 'utete', 'shache', 'buariki', 'jinchengjiang', 'esperance', 'airai', 'norman wells', 'kraste', 'castro', 'salekhard', 'port blair', 'klyuchi', 'upernavik', 'yulara', 'cherskiy', 'khash', 'kodiak', 'sao raimundo nonato', 'linxia', 'qaanaaq', 'bartica', 'los llanos de aridane', 'illoqqortoormiut', 'torva', 'benito juarez', 'dikson', 'sorvag', 'souillac', 'deputatskiy', 'yasnyy', 'clermont', 'port augusta', 'hithadhoo', 'mayo', 'elliot', 'penzance', 'abha', 'belushya guba', 'ust-maya', 'hilo', 'bethel', 'lar gerd', 'yerbogachen', 'flinders', 'kaitangata', 'yenagoa', 'attawapiskat', 'bur gabo', 'butaritari', 'hamilton', 'perth', 'moen', 'davila', 'balaghat', 'boa vista', 'road town', 'kushmurun', 'kruisfontein', 'betsiamites', 'bannu', 'padang', 'vila franca do campo', 'lolua', 'morgan city', 'auki', 'aklavik', 'madisonville', 'petropavlovskoye', 'chapais', 'neverkino', 'sao felix do xingu', 'meyungs', 'gorontalo', 'bolungarvik', 'sulechow', 'faya', 'anadyr', 'vestmannaeyjar', 'huangnihe', 'port alfred', 'caravelas', 'hambantota', 'dogondoutchi', 'falealupo', 'mys shmidta', 'visby', 'constitucion', 'santa vitoria do palmar', 'katsuura', 'ust-nera', 'cabo san lucas', 'axim', 'ilulissat', 'augusto correa', 'bereda', 'kirakira', 'henties bay', 'goderich', 'gamba', 'bani walid', 'hwange', 'mazara del vallo', 'college', 'kiruna', 'shebekino', 'dingle', 'toppenish', 'sorland', 'lasa', 'beloha', 'sandnessjoen', 'tsaratanana', 'palmer', 'guekedou', 'banjar', 'andra', 'staszow', 'amderma', 'saint-pierre', 'port macquarie', 'florianopolis', 'kerema', 'asfi', 'riverton', 'guasdualito', 'kawalu', 'miranda', 'komsomolskiy', 'dehloran', 'victoria', 'bocaranga', 'seoul', 'songjianghe', 'egvekinot', 'salamanca', 'mackay', 'naryan-mar', 'itarema', 'fortuna', 'clemencia', 'xai-xai', 'santa helena de goias', 'saurimo', 'luau', 'brokopondo', 'yangshe', 'san vicente', 'karaul', 'adet', 'san jose', 'taltal', 'tshikapa', 'liboro', 'killybegs', 'malinyi', 'nanortalik', 'avera', 'khorinsk', 'san patricio', 'clyde river', 'savonlinna', 'port lincoln', 'rungata', 'agadez', 'cheuskiny', 'hasaki', 'vila velha', 'katangli', 'keti bandar', 'salinopolis', 'dumas', 'bonthe', 'ponta do sol', 'nienburg', 'springbok', 'wanaka', 'zilair', 'serowe', 'shumikha', 'sola', 'coxim', 'chokurdakh', 'arlit', 'tallahassee', 'cidreira', 'shelburne', 'bubaque', 'rivera', 'camacha', 'la brea', 'panguipulli', 'rorvik', 'muyezerskiy', 'ouadda', 'luderitz', 'barentsburg', 'vanderhoof', 'leningradskiy', 'zholymbet', 'kyabram', 'muridke', 'kavaratti', 'tuktoyaktuk', 'burica', 'sartana', 'dzhebariki-khaya', 'daru', 'haines junction', 'santa ana', 'nioro', 'etchoropo', 'broome', 'lensk', 'san ramon', 'kolchugino', 'brae', 'ambon', 'trenggalek', 'waddan', 'wencheng', 'san quintin', 'ixtapa', 'kachiry', 'takoradi', 'rusape', 'bhadasar', 'lerwick', 'sabha', 'ewo', 'pochutla', 'hyeres', 'bharwari', 'abnub', 'moratuwa', 'liepaja', 'renqiu', 'singaraja', 'armizonskoye', 'san jeronimo', 'marsassoum', 'isangel', 'maine-soroa', 'podbrdo', 'te anau', 'rio brilhante', 'janauba', 'mangit', 'sur', 'susehri', 'tabiauea', 'yomitan', 'qandala', 'skjervoy', 'evensk', 'praia', 'terney', 'inuvik', 'marcona', 'valdez', 'saint george', 'yanchukan', 'valenca', 'zeya', 'wulanhaote', 'phan rang', 'dhidhdhoo', 'makakilo city', 'vao', 'mezen', 'lokomotivnyy', 'baherden', 'kedgwick', 'mabaruma', 'broken hill', 'naze', 'pirojpur', 'wajir', 'zheleznodorozhnyy', 'muisne', 'san cristobal', 'coahuayana', 'forio', 'kudahuvadhoo', 'ukiah', 'comodoro rivadavia', 'simao', 'kazalinsk', 'tokur', 'lavrentiya', 'ayr', 'staraya poltavka', 'beruni', 'puerto cabello', 'hovd', 'kiama', 'batemans bay', 'buala', 'lagoa', 'colares', 'talcahuano', 'simacota', 'ingham', 'mergui', 'mollendo', 'tautira', 'koungou', 'santa eulalia del rio', 'imeni babushkina', 'kytlym', 'kuryk', 'kamakwie', 'nuuk', 'novyy urengoy', 'babanusah', 'ust-shonosha', 'andenes', 'bourail', 'tutoia', 'beboto', 'alofi', 'huarmey', 'ust-tsilma', 'fulitun', 'sao jose da coroa grande', 'krasnaya gora', 'kendari', 'boende', 'guadalupe y calvo', 'leh', 'maltahohe', 'vallenar', 'mahibadhoo', 'opuwo', 'norwalk', 'guaratinga', 'walvis bay', 'krasnousolskiy', 'buta', 'villarrica', 'margate', 'aasiaat', 'kouango', 'menomonie', 'rawlins', 'zhanatas', 'halifax', 'bestobe', 'corrente', 'fuzhou', 'wegrow', 'matamoros', 'sorong', 'qingquan', 'sibolga', 'russell', 'vanimo', 'barabai', 'asau', 'gushikawa', 'puerto del rosario', 'kozmodemyansk', 'saint-augustin', 'carballo', 'vangaindrano', 'zhaotong', 'ondorhaan', 'noumea', 'acarau', 'klaksvik', 'zhezkazgan', 'xiangxiang', 'gayny', 'kiunga', 'van', 'bima', 'vikhorevka', 'kathu', 'karamea', 'leshukonskoye', 'churachandpur', 'little current', 'harrison', 'quepos', 'tuatapere', 'tarpon springs', 'riyadh', 'eyrarbakki', 'mount gambier', 'havre-saint-pierre', 'tromso', 'clarksburg', 'half moon bay', 'cukai', 'the pas', 'tselinnoye', 'andijon', 'rocha', 'imbituba', 'ipixuna', 'tulum', 'la rioja', 'krasnyy oktyabr', 'sayyan', 'namibe', 'wahran', 'batagay-alyta', 'placido de castro', 'dole', 'santiago de cao', 'cockburn harbour', 'kholodnyy', 'sicamous', 'gladstone', 'saskatoon', 'pokhara', 'wasilla', 'barcelos', 'mount isa', 'armidale', 'pacific grove', 'harper', 'sao joao da barra', 'utiroa', 'viedma', 'lorengau', 'sattahip', 'gorin', 'spearfish', 'marabba', 'aban', 'kearney', 'hammerfest', 'mount barker', 'visnes', 'shreveport', 'fuerte olimpo', 'balimo', 'hami', 'gat', 'lagos', 'mogadishu', 'synya', 'sobolevo', 'santa maria', 'gold coast', 'danville', 'marawi']\n"
     ]
    }
   ],
   "source": [
    "print(cities)"
   ]
  },
  {
   "cell_type": "code",
   "execution_count": 4,
   "metadata": {},
   "outputs": [],
   "source": [
    "### Saving out the city pull [swithcer between the full and 10]\n",
    "\n",
    "# Switch the # between the next two lines to get ether all of the cities or just the first 10\n",
    "\n",
    "# all cities\n",
    "# cities_df = pd.DataFrame(cities, columns=[\"city\"])\n",
    "\n",
    "# Just the first 10 cities\n",
    "cities_df = pd.DataFrame(cities[:10], columns=[\"city\"])\n",
    "\n",
    "\n",
    "# Creates the CSV file\n",
    "cities_df.to_csv(output_data_file, header=False, index=False)"
   ]
  },
  {
   "cell_type": "markdown",
   "metadata": {},
   "source": [
    "### Perform API Calls\n",
    "* Perform a weather check on each city using a series of successive API calls.\n",
    "* Include a print log of each city as it'sbeing processed (with the city number and city name).\n"
   ]
  },
  {
   "cell_type": "code",
   "execution_count": 5,
   "metadata": {},
   "outputs": [
    {
     "name": "stdout",
     "output_type": "stream",
     "text": [
      "[{'coord': {'lon': 112.33, 'lat': -6.9}, 'weather': [{'id': 800, 'main': 'Clear', 'description': 'clear sky', 'icon': '01d'}], 'base': 'stations', 'main': {'temp': 25.14, 'pressure': 1018.65, 'humidity': 90, 'temp_min': 25.14, 'temp_max': 25.14, 'sea_level': 1026.09, 'grnd_level': 1018.65}, 'wind': {'speed': 1.96, 'deg': 178.501}, 'clouds': {'all': 0}, 'dt': 1546733803, 'sys': {'message': 0.0029, 'country': 'ID', 'sunrise': 1546726859, 'sunset': 1546771890}, 'id': 1633442, 'name': 'Paciran', 'cod': 200}, {'coord': {'lon': 147.99, 'lat': -37.88}, 'weather': [{'id': 801, 'main': 'Clouds', 'description': 'few clouds', 'icon': '02d'}], 'base': 'stations', 'main': {'temp': 18.49, 'pressure': 1026.27, 'humidity': 91, 'temp_min': 18.49, 'temp_max': 18.49, 'sea_level': 1033.14, 'grnd_level': 1026.27}, 'wind': {'speed': 3.76, 'deg': 250.501}, 'clouds': {'all': 24}, 'dt': 1546733803, 'sys': {'message': 0.0031, 'country': 'AU', 'sunrise': 1546714387, 'sunset': 1546767226}, 'id': 2160735, 'name': 'Lakes Entrance', 'cod': 200}, {'coord': {'lon': -114.38, 'lat': 62.45}, 'weather': [{'id': 600, 'main': 'Snow', 'description': 'light snow', 'icon': '13n'}], 'base': 'stations', 'main': {'temp': -16, 'pressure': 1013, 'humidity': 84, 'temp_min': -16, 'temp_max': -16}, 'visibility': 12874, 'wind': {'speed': 1.5, 'deg': 160}, 'clouds': {'all': 90}, 'dt': 1546732020, 'sys': {'type': 1, 'id': 1007, 'message': 0.0372, 'country': 'CA', 'sunrise': 1546794043, 'sunset': 1546813585}, 'id': 6185377, 'name': 'Yellowknife', 'cod': 200}, {'coord': {'lon': 7.18, 'lat': 47.81}, 'weather': [{'id': 701, 'main': 'Mist', 'description': 'mist', 'icon': '50n'}], 'base': 'stations', 'main': {'temp': 3.33, 'pressure': 1032, 'humidity': 86, 'temp_min': 3, 'temp_max': 4}, 'visibility': 10000, 'wind': {'speed': 3.1}, 'clouds': {'all': 90}, 'dt': 1546731000, 'sys': {'type': 1, 'id': 6585, 'message': 0.0042, 'country': 'FR', 'sunrise': 1546759186, 'sunset': 1546790067}, 'id': 3027857, 'name': 'Cernay', 'cod': 200}, {'coord': {'lon': 168.86, 'lat': -46.19}, 'weather': [{'id': 500, 'main': 'Rain', 'description': 'light rain', 'icon': '10d'}], 'base': 'stations', 'main': {'temp': 14.44, 'pressure': 1006.33, 'humidity': 94, 'temp_min': 14.44, 'temp_max': 14.44, 'sea_level': 1021.18, 'grnd_level': 1006.33}, 'wind': {'speed': 3.11, 'deg': 318.001}, 'rain': {'3h': 0.73}, 'clouds': {'all': 92}, 'dt': 1546733803, 'sys': {'message': 0.019, 'country': 'NZ', 'sunrise': 1546707680, 'sunset': 1546763904}, 'id': 6201424, 'name': 'Mataura', 'cod': 200}, {'coord': {'lon': 128.87, 'lat': 71.64}, 'weather': [{'id': 801, 'main': 'Clouds', 'description': 'few clouds', 'icon': '02d'}], 'base': 'stations', 'main': {'temp': -28.84, 'pressure': 1009.25, 'humidity': 57, 'temp_min': -28.84, 'temp_max': -28.84, 'sea_level': 1028.8, 'grnd_level': 1009.25}, 'wind': {'speed': 3.71, 'deg': 220.001}, 'clouds': {'all': 24}, 'dt': 1546733804, 'sys': {'message': 0.0093, 'country': 'RU', 'sunrise': 0, 'sunset': 0}, 'id': 2015306, 'name': 'Tiksi', 'cod': 200}, {'coord': {'lon': 102.47, 'lat': 71.98}, 'weather': [{'id': 802, 'main': 'Clouds', 'description': 'scattered clouds', 'icon': '03d'}], 'base': 'stations', 'main': {'temp': -33.12, 'pressure': 1017.27, 'humidity': 43, 'temp_min': -33.12, 'temp_max': -33.12, 'sea_level': 1022.68, 'grnd_level': 1017.27}, 'wind': {'speed': 1.21, 'deg': 141.501}, 'clouds': {'all': 36}, 'dt': 1546733804, 'sys': {'message': 0.0035, 'country': 'RU', 'sunrise': 0, 'sunset': 0}, 'id': 2022572, 'name': 'Khatanga', 'cod': 200}, {'coord': {'lon': -58.16, 'lat': 6.8}, 'weather': [{'id': 801, 'main': 'Clouds', 'description': 'few clouds', 'icon': '02n'}], 'base': 'stations', 'main': {'temp': 24, 'pressure': 1014, 'humidity': 94, 'temp_min': 24, 'temp_max': 24}, 'visibility': 10000, 'wind': {'speed': 2.1, 'deg': 30}, 'clouds': {'all': 20}, 'dt': 1546732800, 'sys': {'type': 1, 'id': 8767, 'message': 0.0037, 'country': 'GY', 'sunrise': 1546769161, 'sunset': 1546811453}, 'id': 3378644, 'name': 'Georgetown', 'cod': 200}, {'coord': {'lon': 47.09, 'lat': -21.45}, 'weather': [{'id': 801, 'main': 'Clouds', 'description': 'few clouds', 'icon': '02n'}], 'base': 'stations', 'main': {'temp': 17.09, 'pressure': 897.71, 'humidity': 94, 'temp_min': 17.09, 'temp_max': 17.09, 'sea_level': 1023.74, 'grnd_level': 897.71}, 'wind': {'speed': 0.96, 'deg': 86.0013}, 'clouds': {'all': 12}, 'dt': 1546733804, 'sys': {'message': 0.0037, 'country': 'MG', 'sunrise': 1546740942, 'sunset': 1546789126}, 'id': 1064890, 'name': 'Fianarantsoa', 'cod': 200}, {'coord': {'lon': -5.86, 'lat': 38.95}, 'weather': [{'id': 800, 'main': 'Clear', 'description': 'clear sky', 'icon': '01n'}], 'base': 'stations', 'main': {'temp': -1.92, 'pressure': 1006.49, 'humidity': 67, 'temp_min': -1.92, 'temp_max': -1.92, 'sea_level': 1047.57, 'grnd_level': 1006.49}, 'wind': {'speed': 1.26, 'deg': 31.5013}, 'clouds': {'all': 0}, 'dt': 1546733805, 'sys': {'message': 0.0048, 'country': 'ES', 'sunrise': 1546760548, 'sunset': 1546794963}, 'id': 2518820, 'name': 'Don Benito', 'cod': 200}]\n"
     ]
    }
   ],
   "source": [
    "import openweathermapy as owm\n",
    "import csv\n",
    "#config\n",
    "from api_keys import api_key\n",
    "\n",
    "colnames = ['city']\n",
    "data = pd.read_csv(output_data_file, names=colnames)\n",
    "cities_list = data.city.tolist()\n",
    "\n",
    "# removes the word Cities from our list\n",
    "del cities_list[0]\n",
    "# print(cities_list)\n",
    "\n",
    "# Create settings dictionary with information we're interested in\n",
    "settings = {\"units\": \"metric\", \"appid\": api_key}\n",
    "\n",
    "# query_url = \"https://api.openweathermap.org/data/2.5/weather?q=\"\n",
    "\n",
    "url = \"https://api.openweathermap.org/data/2.5/weather?q=\"\n",
    "\n",
    "# https://samples.openweathermap.org/data/2.5/weather?q=\n",
    "# London\n",
    "# api.openweathermap.org/data/2.5/weather?q=London&appid=api_key\n",
    "\n",
    "# current_weather_paris = owm.get_current(\"Paris\", **settings)\n",
    "# print(f\"Current weather object for Paris: {current_weather_paris}.\")\n",
    "\n",
    "weather_data = []\n",
    "with open(\"output_data/cities.csv\") as cities_file:\n",
    "    cities_reader = csv.reader(cities_file)\n",
    "    cities = [city[0] for city in cities_reader]\n",
    "    weather_data = [owm.get_current(city, **settings) for city in cities]\n",
    "\n",
    "print(weather_data)    \n",
    "    \n",
    "# api.openweathermap.org/data/2.5/weather?q=balimo\n",
    "# https://samples.openweathermap.org/data/2.5/weather?q=London&appid=b6907d289e10d714a6e88b30761fae22\n",
    "\n",
    "# print(cities_list)\n",
    "\n",
    "\n",
    "#### WORKS... we it did, now it does not ###\n",
    "# for city in cities_list:\n",
    "#     response = requests.get(url + city + \"&appid=\" + api_key).json()\n",
    "    \n",
    "    \n",
    "#     lat.append(response['coord']['lat'])\n",
    "#     temp.append(response['main']['temp'])\n",
    "    \n",
    "# print(response)\n"
   ]
  },
  {
   "cell_type": "markdown",
   "metadata": {},
   "source": [
    "### Convert Raw Data to DataFrame\n",
    "* Export the city data into a .csv.\n",
    "* Display the DataFrame"
   ]
  },
  {
   "cell_type": "code",
   "execution_count": null,
   "metadata": {},
   "outputs": [],
   "source": []
  },
  {
   "cell_type": "code",
   "execution_count": null,
   "metadata": {},
   "outputs": [],
   "source": []
  },
  {
   "cell_type": "markdown",
   "metadata": {},
   "source": [
    "### Plotting the Data\n",
    "* Use proper labeling of the plots using plot titles (including date of analysis) and axes labels.\n",
    "* Save the plotted figures as .pngs."
   ]
  },
  {
   "cell_type": "markdown",
   "metadata": {},
   "source": [
    "#### Latitude vs. Temperature Plot"
   ]
  },
  {
   "cell_type": "code",
   "execution_count": null,
   "metadata": {},
   "outputs": [],
   "source": []
  },
  {
   "cell_type": "markdown",
   "metadata": {},
   "source": [
    "#### Latitude vs. Humidity Plot"
   ]
  },
  {
   "cell_type": "code",
   "execution_count": null,
   "metadata": {},
   "outputs": [],
   "source": []
  },
  {
   "cell_type": "markdown",
   "metadata": {},
   "source": [
    "#### Latitude vs. Cloudiness Plot"
   ]
  },
  {
   "cell_type": "code",
   "execution_count": null,
   "metadata": {},
   "outputs": [],
   "source": []
  },
  {
   "cell_type": "markdown",
   "metadata": {},
   "source": [
    "#### Latitude vs. Wind Speed Plot"
   ]
  },
  {
   "cell_type": "code",
   "execution_count": null,
   "metadata": {},
   "outputs": [],
   "source": []
  },
  {
   "cell_type": "code",
   "execution_count": null,
   "metadata": {},
   "outputs": [],
   "source": []
  }
 ],
 "metadata": {
  "anaconda-cloud": {},
  "kernelspec": {
   "display_name": "Python 3",
   "language": "python",
   "name": "python3"
  },
  "language_info": {
   "codemirror_mode": {
    "name": "ipython",
    "version": 3
   },
   "file_extension": ".py",
   "mimetype": "text/x-python",
   "name": "python",
   "nbconvert_exporter": "python",
   "pygments_lexer": "ipython3",
   "version": "3.6.6"
  }
 },
 "nbformat": 4,
 "nbformat_minor": 2
}

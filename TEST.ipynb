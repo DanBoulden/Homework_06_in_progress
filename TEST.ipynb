{
 "cells": [
  {
   "cell_type": "markdown",
   "metadata": {},
   "source": [
    "# WeatherPy\n",
    "----\n",
    "\n",
    "### Analysis\n",
    "* As expected, the weather becomes significantly warmer as one approaches the equator (0 Deg. Latitude). More interestingly, however, is the fact that the southern hemisphere tends to be warmer this time of year than the northern hemisphere. This may be due to the tilt of the earth.\n",
    "* There is no strong relationship between latitude and cloudiness. However, it is interesting to see that a strong band of cities sits at 0, 80, and 100% cloudiness.\n",
    "* There is no strong relationship between latitude and wind speed. However, in northern hemispheres there is a flurry of cities with over 20 mph of wind.\n",
    "\n",
    "---\n",
    "\n",
    "#### Note\n",
    "* Instructions have been included for each segment. You do not have to follow them exactly, but they are included to help you think through the steps."
   ]
  },
  {
   "cell_type": "code",
   "execution_count": 1,
   "metadata": {
    "scrolled": true
   },
   "outputs": [],
   "source": [
    "# Dependencies and Setup\n",
    "import matplotlib.pyplot as plt\n",
    "import pandas as pd\n",
    "import numpy as np\n",
    "import requests\n",
    "import time\n",
	"# DANS UPDATE",
    "\n",
    "\n",
    "# pip install citipy\n",
    "\n",
    "\n",
    "# Import API key\n",
    "# from config import api_keys\n",
    "import api_keys\n",
    "\n",
    "# \n",
    "# citipy = \"https://pypi.python.org/pypi/citipy\"\n",
    "# https://openweathermap.org/api\n",
    "\n",
    "# Incorporated citipy to determine city based on latitude and longitude\n",
    "from citipy import citipy\n",
    "\n",
    "# Output File (CSV)\n",
    "output_data_file = \"output_data/cities.csv\"\n",
    "final_output_data_file = \"output_data/cities_final.csv\"\n",
    "\n",
    "# Range of latitudes and longitudes\n",
    "lat_range = (-90, 90)\n",
    "lng_range = (-180, 180)"
   ]
  },
  {
   "cell_type": "code",
   "execution_count": null,
   "metadata": {},
   "outputs": [],
   "source": []
  },
  {
   "cell_type": "markdown",
   "metadata": {},
   "source": [
    "## Generate Cities List"
   ]
  },
  {
   "cell_type": "code",
   "execution_count": 2,
   "metadata": {},
   "outputs": [
    {
     "data": {
      "text/plain": [
       "618"
      ]
     },
     "execution_count": 2,
     "metadata": {},
     "output_type": "execute_result"
    }
   ],
   "source": [
    "# List for holding lat_lngs and cities\n",
    "lat_lngs = []\n",
    "cities = []\n",
    "\n",
    "# Create a set of random lat and lng combinations\n",
    "lats = np.random.uniform(low=-90.000, high=90.000, size=1500)\n",
    "lngs = np.random.uniform(low=-180.000, high=180.000, size=1500)\n",
    "lat_lngs = zip(lats, lngs)\n",
    "\n",
    "# Identify nearest city for each lat, lng combination\n",
    "for lat_lng in lat_lngs:\n",
    "    city = citipy.nearest_city(lat_lng[0], lat_lng[1]).city_name\n",
    "    \n",
    "    # If the city is unique, then add it to a our cities list\n",
    "    if city not in cities:\n",
    "        cities.append(city)\n",
    "\n",
    "# Print the city count to confirm sufficient count\n",
    "len(cities)"
   ]
  },
  {
   "cell_type": "code",
   "execution_count": 3,
   "metadata": {
    "scrolled": true
   },
   "outputs": [
    {
     "name": "stdout",
     "output_type": "stream",
     "text": [
      "['jamestown', 'topolobampo', 'iqaluit', 'dobryanka', 'belushya guba', 'vaitupu', 'provideniya', 'niquero', 'atuona', 'lebu', 'port alfred', 'juventino rosas', 'yilan', 'okakarara', 'kamenka', 'valley city', 'taltal', 'hermanus', 'padang', 'constitucion', 'dikson', 'chuy', 'taolanaro', 'mityana', 'tasiilaq', 'nikolskoye', 'haines junction', 'zhicheng', 'fort nelson', 'east london', 'weligama', 'tadine', 'severo-kurilsk', 'punta arenas', 'bluff', 'chokurdakh', 'bathsheba', 'busselton', 'georgetown', 'katsuura', 'namibe', 'ushuaia', 'rikitea', 'barrow', 'mataura', 'codrington', 'junin', 'hithadhoo', 'bredasdorp', 'camacha', 'sur', 'coihaique', 'marzuq', 'thompson', 'carnarvon', 'walvis bay', 'fortuna', 'egvekinot', 'wahran', 'umm lajj', 'nakamura', 'quatre cocos', 'kapaa', 'norman wells', 'hilo', 'avarua', 'albany', 'adrar', 'new norfolk', 'yenagoa', 'erenhot', 'esperance', 'tocache', 'mahebourg', 'jacareacanga', 'hobart', 'mar del plata', 'talnakh', 'sao filipe', 'mayo', 'bambanglipuro', 'arraial do cabo', 'saint-philippe', 'omboue', 'oreanda', 'saldanha', 'khatanga', 'kodiak', 'vila velha', 'vaini', 'tuktoyaktuk', 'iracoubo', 'saiha', 'balakliya', 'castro', 'avera', 'monrovia', 'aykhal', 'kavaratti', 'helena', 'karaul', 'kaitangata', 'tsihombe', 'yellowknife', 'nizhneyansk', 'mitzic', 'tibati', 'honiara', 'illoqqortoormiut', 'san quintin', 'massakory', 'lavrentiya', 'klaksvik', 'poyarkovo', 'mentok', 'tumannyy', 'tiksi', 'qaanaaq', 'meshchovsk', 'tlahualilo', 'cheremnoye', 'buraydah', 'pimentel', 'butaritari', 'ormara', 'ahipara', 'puerto ayora', 'general teran', 'finnsnes', 'biak', 'mujiayingzi', 'surt', 'yuzhno-kurilsk', 'jalu', 'parras', 'el tocuyo', 'alofi', 'sorvag', 'vuktyl', 'cape town', 'akureyri', 'matara', 'uren', 'homer', 'grindavik', 'nanortalik', 'kununurra', 'vanimo', 'longyearbyen', 'hauterive', 'singaraja', 'mrirt', 'bethel', 'burgersdorp', 'san patricio', 'san andres', 'faanui', 'strelka', 'pionerskiy', 'alghero', 'cuamba', 'polyarnyy', 'bangassou', 'tomatlan', 'hobyo', 'ponta do sol', 'hualmay', 'aklavik', 'dokka', 'balkhash', 'foz', 'lagoa', 'vila franca do campo', 'bandarbeyla', 'vieques', 'puertollano', 'contai', 'sibolga', 'samusu', 'cockburn harbour', 'raudeberg', 'bolungarvik', 'praya', 'colesberg', 'roseburg', 'konispol', 'srednekolymsk', 'safwah', 'kemi', 'nuuk', 'meyungs', 'noumea', 'nelidovo', 'bowmore', 'san benito', 'chisindia', 'ancud', 'deer lake', 'comodoro rivadavia', 'wa', 'inhambane', 'knysna', 'djambala', 'nieves', 'saskylakh', 'hasaki', 'tungkang', 'mahibadhoo', 'nelson bay', 'fevralsk', 'dengzhou', 'marawi', 'lompoc', 'yar-sale', 'tinskoy', 'floro', 'hirara', 'amazar', 'voi', 'phan thiet', 'caraballeda', 'guerrero negro', 'port hardy', 'vestmanna', 'hamilton', 'bridlington', 'vicuna', 'hay river', 'port blair', 'puerto madryn', 'olafsvik', 'la palma', 'umzimvubu', 'grand river south east', 'el faiyum', 'isangel', 'salalah', 'narsaq', 'atar', 'baker city', 'royan', 'husavik', 'babanusah', 'mount isa', 'sioux lookout', 'laranjeiras do sul', 'tiling', 'scarborough', 'swan hill', 'dwarka', 'douentza', 'opobo', 'amderma', 'pangnirtung', 'uglegorskiy', 'lindau', 'yulara', 'sattahip', 'smithers', 'badulla', 'alekseyevsk', 'riverton', 'okha', 'brae', 'pochutla', 'palmerston', 'tevaitoa', 'satitoa', 'nemuro', 'whitehorse', 'nueve de julio', 'anloga', 'dingle', 'cherskiy', 'aksu', 'daru', 'port hedland', 'boma', 'port hawkesbury', 'cintalapa', 'ngora', 'lasa', 'hovd', 'nueva concepcion', 'fukuma', 'saint anthony', 'aden', 'mulege', 'mys shmidta', 'kahului', 'kolpashevo', 'parabel', 'huarmey', 'ayorou', 'pundaguitan', 'virginia beach', 'temaraia', 'bjerkvik', 'dombas', 'ilulissat', 'hendijan', 'morganton', 'bridgetown', 'cidreira', 'ust-maya', 'diego de almagro', 'barbacena', 'marcona', 'shostka', 'sitka', 'micomeseng', 'santa cruz de la palma', 'pecos', 'mokrous', 'hermosillo', 'el alto', 'alice springs', 'sao jose da coroa grande', 'vao', 'piracanjuba', 'rio brilhante', 'kommunisticheskiy', 'torbay', 'sao joao da barra', 'vardo', 'maldonado', 'meulaboh', 'perbaungan', 'norrtalje', 'namatanai', 'oranjemund', 'atasu', 'abu dhabi', 'pevek', 'marau', 'saleaula', 'umm kaddadah', 'boda', 'baykit', 'ocos', 'cabo san lucas', 'mount gambier', 'souillac', 'mehamn', 'grand gaube', 'plattsburgh', 'tornio', 'acajutla', 'armacao dos buzios', 'havoysund', 'bambous virieux', 'paamiut', 'hargeysa', 'amapa', 'ray', 'barentsburg', 'mbandaka', 'changji', 'laguna', 'babushkin', 'kavieng', 'san policarpo', 'christchurch', 'harper', 'dukat', 'seoul', 'pisco', 'chenghai', 'mecca', 'keshan', 'saint george', 'komsomolskiy', 'necochea', 'yumen', 'tabiauea', 'ribeira grande', 'buqayq', 'mana', 'hudiksvall', 'port arthur', 'san rafael', 'samalaeulu', 'nago', 'kinablangan', 'ucluelet', 'kruisfontein', 'katherine', 'olinda', 'promysla', 'la asuncion', 'nyurba', 'nao-me-toque', 'port elizabeth', 'half moon bay', 'lazaro cardenas', 'jaipur', 'ndola', 'gazojak', 'ngukurr', 'nome', 'la tijera', 'ekhabi', 'rudnyy', 'bushehr', 'sovetskiy', 'gunjur', 'zhob', 'camana', 'nhulunbuy', 'kulhudhuffushi', 'yialos', 'sentyabrskiy', 'svetlogorsk', 'kholtoson', 'manzil tamim', 'cayenne', 'portland', 'faya', 'qandala', 'hami', 'bereda', 'kaeo', 'ostrovnoy', 'tessalit', 'bud', 'shingu', 'clyde river', 'kedrovyy', 'le port', 'araouane', 'hambantota', 'vrangel', 'dunedin', 'bubaque', 'touros', 'artyk', 'talawdi', 'luderitz', 'maumere', 'matagami', 'saint-paul', 'xining', 'samarai', 'phnum penh', 'catamarca', 'abrau-dyurso', 'cordoba', 'batagay-alyta', 'upernavik', 'fort saint john', 'arica', 'los llanos de aridane', 'salihorsk', 'yambio', 'pak phanang', 'pouembout', 'kutum', 'tezu', 'ahuimanu', 'kotelnikovo', 'sept-iles', 'wadi musa', 'pechenga', 'chuncheng', 'naze', 'behshahr', 'leningradskiy', 'tuatapere', 'sistranda', 'laiagam', 'rafaela', 'ondjiva', 'savannah bight', 'belgrade', 'arman', 'emilio carranza', 'alyangula', 'tahta', 'trincomalee', 'flinders', 'rapid valley', 'port lincoln', 'finschhafen', 'rio tercero', 'saint-augustin', 'san cristobal', 'coahuayana', 'mokhotlong', 'aswan', 'pirsagi', 'ha giang', 'eureka', 'garowe', 'fortuna foothills', 'benalla', 'canavieiras', 'ulladulla', 'murray bridge', 'barawe', 'pusztaszabolcs', 'aflu', 'deputatskiy', 'key west', 'attawapiskat', 'peleduy', 'russell', 'asau', 'rio gallegos', 'wanning', 'qaqortoq', 'ossora', 'predivinsk', 'angleton', 'auki', 'palmer', 'codajas', 'imatra', 'dongsheng', 'celestun', 'mezen', 'sola', 'arlit', 'severo-yeniseyskiy', 'praia da vitoria', 'itaueira', 'mabaruma', 'bur gabo', 'kiama', 'yokadouma', 'geraldton', 'southbridge', 'kushmurun', 'beloha', 'victoria', 'beringovskiy', 'bonavista', 'pemangkat', 'takoradi', 'kathu', 'kawalu', 'sesheke', 'dire', 'leh', 'rawannawi', 'vila', 'tiguion', 'karratha', 'zhuanghe', 'baruun-urt', 'lata', 'nortelandia', 'lincoln', 'price', 'unai', 'disna', 'petatlan', 'alamos', 'maningrida', 'cuddapah', 'nara', 'saryg-sep', 'santa cruz', 'bindura', 'salinas', 'camalu', 'rundu', 'belyy yar', 'manokwari', 'chifeng', 'suileng', 'kurchum', 'arani', 'oliveira', 'sivagiri', 'harer', 'dinard', 'beyneu', 'khuzdar', 'tikrit', 'fare', 'marrakesh', 'clovis', 'hofn', 'richards bay', 'shemonaikha', 'katangli', 'vestmannaeyjar', 'tabas', 'magadan', 'kapuskasing', 'palana', 'lake cowichan', 'majene', 'truth or consequences', 'brasileia', 'antalaha', 'warqla', 'pingzhuang', 'inongo', 'marfino', 'wajir', 'tigil', 'teneguiban', 'yabrud', 'lere', 'buala', 'muskogee', 'mapiri', 'okhotsk', 'churapcha', 'villamontes', 'kyzyl-mazhalyk', 'bama', 'kapit', 'atascadero', 'conceicao do araguaia', 'lebyazhye', 'aripuana']\n"
     ]
    }
   ],
   "source": [
    "print(cities)"
   ]
  },
  {
   "cell_type": "code",
   "execution_count": 4,
   "metadata": {},
   "outputs": [],
   "source": [
    "### Saving out the city pull [swithcer between the full and 10]\n",
    "\n",
    "# Switch the # between the next two lines to get ether all of the cities or just the first 10\n",
    "\n",
    "# all cities\n",
    "# cities_df = pd.DataFrame(cities, columns=[\"city\"])\n",
    "\n",
    "# Just the first 10 cities\n",
    "cities_df = pd.DataFrame(cities[:10], columns=[\"city\"])\n",
    "\n",
    "\n",
    "# Creates the CSV file\n",
    "cities_df.to_csv(output_data_file, header=True, index=False)"
   ]
  },
  {
   "cell_type": "markdown",
   "metadata": {},
   "source": [
    "### Perform API Calls\n",
    "* Perform a weather check on each city using a series of successive API calls.\n",
    "* Include a print log of each city as it'sbeing processed (with the city number and city name).\n"
   ]
  },
  {
   "cell_type": "code",
   "execution_count": 33,
   "metadata": {},
   "outputs": [
    {
     "name": "stdout",
     "output_type": "stream",
     "text": [
      "Oops, that city doesn't exist.\n"
     ]
    },
    {
     "data": {
      "text/html": [
       "<div>\n",
       "<style scoped>\n",
       "    .dataframe tbody tr th:only-of-type {\n",
       "        vertical-align: middle;\n",
       "    }\n",
       "\n",
       "    .dataframe tbody tr th {\n",
       "        vertical-align: top;\n",
       "    }\n",
       "\n",
       "    .dataframe thead th {\n",
       "        text-align: right;\n",
       "    }\n",
       "</style>\n",
       "<table border=\"1\" class=\"dataframe\">\n",
       "  <thead>\n",
       "    <tr style=\"text-align: right;\">\n",
       "      <th></th>\n",
       "      <th>City</th>\n",
       "      <th>Cloudiness</th>\n",
       "      <th>Country</th>\n",
       "      <th>Date</th>\n",
       "      <th>Humidity</th>\n",
       "      <th>Lat</th>\n",
       "      <th>Lng</th>\n",
       "      <th>Max Temp</th>\n",
       "      <th>Wind Speed</th>\n",
       "    </tr>\n",
       "  </thead>\n",
       "  <tbody>\n",
       "    <tr>\n",
       "      <th>0</th>\n",
       "      <td>Pachmarhi</td>\n",
       "      <td>0</td>\n",
       "      <td>IN</td>\n",
       "      <td>1547245917</td>\n",
       "      <td>80</td>\n",
       "      <td>22.47</td>\n",
       "      <td>78.44</td>\n",
       "      <td>279.610</td>\n",
       "      <td>1.16</td>\n",
       "    </tr>\n",
       "    <tr>\n",
       "      <th>1</th>\n",
       "      <td>Puerto Escondido</td>\n",
       "      <td>0</td>\n",
       "      <td>MX</td>\n",
       "      <td>1547245761</td>\n",
       "      <td>100</td>\n",
       "      <td>15.86</td>\n",
       "      <td>-97.07</td>\n",
       "      <td>300.450</td>\n",
       "      <td>3.57</td>\n",
       "    </tr>\n",
       "    <tr>\n",
       "      <th>2</th>\n",
       "      <td>Brokopondo</td>\n",
       "      <td>20</td>\n",
       "      <td>SR</td>\n",
       "      <td>1547244000</td>\n",
       "      <td>69</td>\n",
       "      <td>5.06</td>\n",
       "      <td>-54.98</td>\n",
       "      <td>300.150</td>\n",
       "      <td>3.10</td>\n",
       "    </tr>\n",
       "    <tr>\n",
       "      <th>3</th>\n",
       "      <td>Aykhal</td>\n",
       "      <td>32</td>\n",
       "      <td>RU</td>\n",
       "      <td>1547245762</td>\n",
       "      <td>60</td>\n",
       "      <td>65.95</td>\n",
       "      <td>111.51</td>\n",
       "      <td>243.175</td>\n",
       "      <td>3.07</td>\n",
       "    </tr>\n",
       "  </tbody>\n",
       "</table>\n",
       "</div>"
      ],
      "text/plain": [
       "               City  Cloudiness Country        Date  Humidity    Lat     Lng  \\\n",
       "0         Pachmarhi           0      IN  1547245917        80  22.47   78.44   \n",
       "1  Puerto Escondido           0      MX  1547245761       100  15.86  -97.07   \n",
       "2        Brokopondo          20      SR  1547244000        69   5.06  -54.98   \n",
       "3            Aykhal          32      RU  1547245762        60  65.95  111.51   \n",
       "\n",
       "   Max Temp  Wind Speed  \n",
       "0   279.610        1.16  \n",
       "1   300.450        3.57  \n",
       "2   300.150        3.10  \n",
       "3   243.175        3.07  "
      ]
     },
     "execution_count": 33,
     "metadata": {},
     "output_type": "execute_result"
    }
   ],
   "source": [
    "import openweathermapy as owm\n",
    "import csv\n",
    "#config\n",
    "from api_keys import api_key\n",
    "\n",
    "colnames = ['city']\n",
    "data = pd.read_csv(output_data_file, names=colnames)\n",
    "cities_list = data.city.tolist()\n",
    "\n",
    "# removes the word Cities from our list\n",
    "del cities_list[0]\n",
    "# print(cities_list)\n",
    "\n",
    "# Create settings dictionary with information we're interested in\n",
    "# settings = {\"units\": \"Fahrenheit\", \"appid\": api_key}\n",
    "# settings = {\"appid\": api_key, \"&units=\": \"fahrenheit\"}\n",
    "settings = {\"units\": \"imperial\", \"appid\": api_key}\n",
    "# &units=\n",
    "# units = [\"Fahrenheit\"]\n",
    "\n",
    "# query_url = \"https://api.openweathermap.org/data/2.5/weather?q=\"\n",
    "\n",
    "url = \"https://api.openweathermap.org/data/2.5/weather?q=\"\n",
    "\n",
    "# https://samples.openweathermap.org/data/2.5/weather?q=London\n",
    "# https://samples.openweathermap.org/data/2.5/weather?q=\n",
    "# London\n",
    "# api.openweathermap.org/data/2.5/weather?q=London&appid=api_key\n",
    "\n",
    "#-------------------------------------------------------------\n",
    "\n",
    "name = []\n",
    "cloudiness = []\n",
    "country = []\n",
    "date = []\n",
    "humidity = []\n",
    "lat = []\n",
    "lon = []\n",
    "maxtemp = []\n",
    "windspeed = []\n",
    "\n",
    "### WORKS... we it did, now it does not ###\n",
    "try:\n",
    "    for city in cities_list:\n",
    "        response = requests.get(url + city + \"&appid=\" + api_key).json()\n",
    "        name.append(response['name'])\n",
    "        cloudiness.append(response['clouds']['all'])\n",
    "        country.append(response['sys']['country'])\n",
    "        date.append(response['dt'])\n",
    "        humidity.append(response['main']['humidity'])\n",
    "        lat.append(response['coord']['lat'])\n",
    "        lon.append(response['coord']['lon'])\n",
    "        maxtemp.append(response['main']['temp_max'])\n",
    "        windspeed.append(response['wind']['speed'])\n",
    "except :\n",
    "    print(\"Oops, that city doesn't exist.\")    \n",
    "\n",
    "# except KeyError:\n",
    "    \n",
    "frame_df = pd.DataFrame({\n",
    "    \"City\": name,\n",
    "    \"Cloudiness\": cloudiness,\n",
    "    \"Country\": country,\n",
    "    \"Date\": date,\n",
    "    \"Humidity\": humidity,\n",
    "    \"Lat\": lat,\n",
    "    \"Lng\": lon,\n",
    "    \"Max Temp\": maxtemp,\n",
    "    \"Wind Speed\": windspeed})\n",
    "frame_df    \n",
    "    \n",
    "# summary = [\"name\", \"clouds.all\", \"sys.country\", \"dt\", \"main.humidity\", \"coord.lat\", \"coord.lon\", \"main.temp_max\", \"wind.speed\"]\n",
    "# data = [response(*summary) for response in response]\n",
    "\n",
    "# try:\n",
    "#     students[\"Jezebel\"]\n",
    "# except KeyError:\n",
    "#     print(\"Oops, that key doesn't exist.\")    \n",
    "    \n",
    "# KeyError\n",
    "\n",
    "\n",
    "#     lat.append(response['coord']['lat'])\n",
    "#     temp.append(response['main']['temp'])\n",
    "\n",
    "# summary = [\"name\", \"clouds.all\", \"sys.country\", \"dt\", \"main.humidity\", \"coord.lat\", \"coord.lon\", \"main.temp_max\", \"wind.speed\"]\n",
    "# data = [response(*summary) for response in response]\n",
    "\n",
    "# weather_data = pd.DataFrame(data)\n",
    "# weather_data = pd.DataFrame(data, index=cities)\n",
    "# weather_data.columns = [\"City\", \"Cloudiness\", \"Country\", \"Date\", \"Humidity\", \"Lat\", \"Lng\", \"Max Temp\", \"Wind Speed\"]\n",
    "\n",
    "\n",
    "# print(response)\n",
    "#-------------------------------------------------------------\n",
    "\n",
    "\n",
    "\n",
    "# weather_data = []\n",
    "# with open(\"output_data/cities.csv\") as cities_file:\n",
    "#     cities_reader = csv.reader(cities_file)\n",
    "#     cities = [city[0] for city in cities_reader]\n",
    "#     weather_data = [owm.get_current(city, **settings) for city in cities]\n",
    "\n",
    "# # print(weather_data)    \n",
    "\n",
    "\n",
    "# summary = [\"name\", \"clouds.all\", \"sys.country\", \"dt\", \"main.humidity\", \"coord.lat\", \"coord.lon\", \"main.temp_max\", \"wind.speed\", \"cod\"]\n",
    "# data = [response(*summary) for response in weather_data]\n",
    "\n",
    "# weather_data = pd.DataFrame(data)\n",
    "# # weather_data = pd.DataFrame(data, index=cities)\n",
    "# weather_data.columns = [\"City\", \"Cloudiness\", \"Country\", \"Date\", \"Humidity\", \"Lat\", \"Lng\", \"Max Temp\", \"Wind Speed\", \"cod\"]\n",
    "\n",
    "# # weather_data = pd.DataFrame(data, index=False)\n",
    "# # weather_data\n",
    "\n",
    "\n",
    "# # api.openweathermap.org/data/2.5/weather?q=balimo\n",
    "# # https://samples.openweathermap.org/data/2.5/weather?q=London&appid=b6907d289e10d714a6e88b30761fae22\n",
    "\n",
    "\n",
    "\n",
    "\n",
    "\n",
    "##########################################################################################\n",
    "####################### NEEDS ERROR CHECKING FOR HTTPError: ~404 #########################\n",
    "##########################################################################################"
   ]
  },
  {
   "cell_type": "markdown",
   "metadata": {},
   "source": [
    "### Convert Raw Data to DataFrame\n",
    "* Export the city data into a .csv.\n",
    "* Display the DataFrame"
   ]
  },
  {
   "cell_type": "code",
   "execution_count": 6,
   "metadata": {},
   "outputs": [],
   "source": [
    "weather_data = pd.DataFrame(data, columns=[\"City\", \"Cloudiness\", \n",
    "                                          \"Country\", \"Date\", \n",
    "                                          \"Humidity\", \"Lat\", \"Lng\", \n",
    "                                          \"Max Temp\", \"Wind Speed\", \"cod\"])\n",
    "weather_data.to_csv(final_output_data_file, header=True, index=False)\n",
    "\n"
   ]
  },
  {
   "cell_type": "code",
   "execution_count": 7,
   "metadata": {},
   "outputs": [
    {
     "data": {
      "text/plain": [
       "City          0\n",
       "Cloudiness    0\n",
       "Country       0\n",
       "Date          0\n",
       "Humidity      0\n",
       "Lat           0\n",
       "Lng           0\n",
       "Max Temp      0\n",
       "Wind Speed    0\n",
       "cod           0\n",
       "dtype: int64"
      ]
     },
     "execution_count": 7,
     "metadata": {},
     "output_type": "execute_result"
    }
   ],
   "source": [
    "weather_data.count()"
   ]
  },
  {
   "cell_type": "code",
   "execution_count": 8,
   "metadata": {},
   "outputs": [
    {
     "data": {
      "text/html": [
       "<div>\n",
       "<style scoped>\n",
       "    .dataframe tbody tr th:only-of-type {\n",
       "        vertical-align: middle;\n",
       "    }\n",
       "\n",
       "    .dataframe tbody tr th {\n",
       "        vertical-align: top;\n",
       "    }\n",
       "\n",
       "    .dataframe thead th {\n",
       "        text-align: right;\n",
       "    }\n",
       "</style>\n",
       "<table border=\"1\" class=\"dataframe\">\n",
       "  <thead>\n",
       "    <tr style=\"text-align: right;\">\n",
       "      <th></th>\n",
       "      <th>City</th>\n",
       "      <th>Cloudiness</th>\n",
       "      <th>Country</th>\n",
       "      <th>Date</th>\n",
       "      <th>Humidity</th>\n",
       "      <th>Lat</th>\n",
       "      <th>Lng</th>\n",
       "      <th>Max Temp</th>\n",
       "      <th>Wind Speed</th>\n",
       "      <th>cod</th>\n",
       "    </tr>\n",
       "  </thead>\n",
       "  <tbody>\n",
       "    <tr>\n",
       "      <th>0</th>\n",
       "      <td>NaN</td>\n",
       "      <td>NaN</td>\n",
       "      <td>NaN</td>\n",
       "      <td>NaN</td>\n",
       "      <td>NaN</td>\n",
       "      <td>NaN</td>\n",
       "      <td>NaN</td>\n",
       "      <td>NaN</td>\n",
       "      <td>NaN</td>\n",
       "      <td>NaN</td>\n",
       "    </tr>\n",
       "    <tr>\n",
       "      <th>1</th>\n",
       "      <td>NaN</td>\n",
       "      <td>NaN</td>\n",
       "      <td>NaN</td>\n",
       "      <td>NaN</td>\n",
       "      <td>NaN</td>\n",
       "      <td>NaN</td>\n",
       "      <td>NaN</td>\n",
       "      <td>NaN</td>\n",
       "      <td>NaN</td>\n",
       "      <td>NaN</td>\n",
       "    </tr>\n",
       "    <tr>\n",
       "      <th>2</th>\n",
       "      <td>NaN</td>\n",
       "      <td>NaN</td>\n",
       "      <td>NaN</td>\n",
       "      <td>NaN</td>\n",
       "      <td>NaN</td>\n",
       "      <td>NaN</td>\n",
       "      <td>NaN</td>\n",
       "      <td>NaN</td>\n",
       "      <td>NaN</td>\n",
       "      <td>NaN</td>\n",
       "    </tr>\n",
       "    <tr>\n",
       "      <th>3</th>\n",
       "      <td>NaN</td>\n",
       "      <td>NaN</td>\n",
       "      <td>NaN</td>\n",
       "      <td>NaN</td>\n",
       "      <td>NaN</td>\n",
       "      <td>NaN</td>\n",
       "      <td>NaN</td>\n",
       "      <td>NaN</td>\n",
       "      <td>NaN</td>\n",
       "      <td>NaN</td>\n",
       "    </tr>\n",
       "    <tr>\n",
       "      <th>4</th>\n",
       "      <td>NaN</td>\n",
       "      <td>NaN</td>\n",
       "      <td>NaN</td>\n",
       "      <td>NaN</td>\n",
       "      <td>NaN</td>\n",
       "      <td>NaN</td>\n",
       "      <td>NaN</td>\n",
       "      <td>NaN</td>\n",
       "      <td>NaN</td>\n",
       "      <td>NaN</td>\n",
       "    </tr>\n",
       "  </tbody>\n",
       "</table>\n",
       "</div>"
      ],
      "text/plain": [
       "   City  Cloudiness  Country  Date  Humidity  Lat  Lng  Max Temp  Wind Speed  \\\n",
       "0   NaN         NaN      NaN   NaN       NaN  NaN  NaN       NaN         NaN   \n",
       "1   NaN         NaN      NaN   NaN       NaN  NaN  NaN       NaN         NaN   \n",
       "2   NaN         NaN      NaN   NaN       NaN  NaN  NaN       NaN         NaN   \n",
       "3   NaN         NaN      NaN   NaN       NaN  NaN  NaN       NaN         NaN   \n",
       "4   NaN         NaN      NaN   NaN       NaN  NaN  NaN       NaN         NaN   \n",
       "\n",
       "   cod  \n",
       "0  NaN  \n",
       "1  NaN  \n",
       "2  NaN  \n",
       "3  NaN  \n",
       "4  NaN  "
      ]
     },
     "execution_count": 8,
     "metadata": {},
     "output_type": "execute_result"
    }
   ],
   "source": [
    "weather_data.head()"
   ]
  },
  {
   "cell_type": "markdown",
   "metadata": {},
   "source": [
    "### Plotting the Data\n",
    "* Use proper labeling of the plots using plot titles (including date of analysis) and axes labels.\n",
    "* Save the plotted figures as .pngs."
   ]
  },
  {
   "cell_type": "markdown",
   "metadata": {},
   "source": [
    "#### Latitude vs. Temperature Plot"
   ]
  },
  {
   "cell_type": "code",
   "execution_count": 9,
   "metadata": {},
   "outputs": [
    {
     "data": {
      "image/png": "[encoded data removed]",
      "text/plain": [
       "<Figure size 432x288 with 1 Axes>"
      ]
     },
     "metadata": {
      "needs_background": "light"
     },
     "output_type": "display_data"
    }
   ],
   "source": [
    "## Latitude vs. Temperature Plot\n",
    "\n",
    "# Obtain the x and y coordinates for the plot\n",
    "plt.ylim(21,105)\n",
    "# plt.ylim(21,315)\n",
    "plt.xlim(-61,83)\n",
    "# Build the scatter plots for the citys\n",
    "x_axisu = weather_data[\"Lat\"]\n",
    "y_axisu = weather_data[\"Max Temp\"]\n",
    "\n",
    "# set the colors\n",
    "# temp_plot = plt.scatter(x_axisu, y_axisu, marker=\"o\", facecolors=\"lightcoral\",edgecolors=\"black\", s=10*dcu, alpha=0.75)\n",
    "temp_plot = plt.scatter(x_axisu, y_axisu, marker=\"o\", facecolors=\"plum\",edgecolors=\"black\", alpha=0.75)\n",
    "plt.grid()\n",
    "\n",
    "# add the titleing NOTE:pd.datetime.today().strftime(\"%m/%d/%Y\") calls todays date\n",
    "plt.title(\"City Latitude vs. Max Temperature (\" + pd.datetime.today().strftime(\"%m/%d/%Y\") + \")\")\n",
    "plt.xlabel(\"Latitude\")\n",
    "plt.ylabel(\"Max Temperature (F)\")\n",
    "\n",
    "\n",
    "##########################################################################################\n",
    "#######################      NEEDS conversiton to Fahrenheit     #########################\n",
    "############# When this happens change plt.ylim(21,315) back to plt.ylim(21,105) #########\n",
    "##########################################################################################\n",
    "\n",
    "plt.savefig(\"output_data/City_Latitude_vs_Max_Temperature.jpg\", bbox_inches=\"tight\")\n",
    "plt.show()"
   ]
  },
  {
   "cell_type": "markdown",
   "metadata": {},
   "source": [
    "#### Latitude vs. Humidity Plot"
   ]
  },
  {
   "cell_type": "code",
   "execution_count": 10,
   "metadata": {},
   "outputs": [
    {
     "data": {
      "image/png": "[encoded data removed]",
      "text/plain": [
       "<Figure size 432x288 with 1 Axes>"
      ]
     },
     "metadata": {
      "needs_background": "light"
     },
     "output_type": "display_data"
    }
   ],
   "source": [
    "## Latitude vs. Humidity Plot\n",
    "\n",
    "# Obtain the x and y coordinates for the plot\n",
    "plt.ylim(21,105)\n",
    "# plt.ylim(21,315)\n",
    "plt.xlim(-61,83)\n",
    "# Build the scatter plots for the citys\n",
    "x_axisu = weather_data[\"Lat\"]\n",
    "y_axisu = weather_data[\"Humidity\"]\n",
    "\n",
    "# set the colors\n",
    "# temp_plot = plt.scatter(x_axisu, y_axisu, marker=\"o\", facecolors=\"lightcoral\",edgecolors=\"black\", s=10*dcu, alpha=0.75)\n",
    "temp_plot = plt.scatter(x_axisu, y_axisu, marker=\"o\", facecolors=\"plum\",edgecolors=\"black\", alpha=0.75)\n",
    "plt.grid()\n",
    "\n",
    "# add the titleing NOTE:pd.datetime.today().strftime(\"%m/%d/%Y\") calls todays date\n",
    "plt.title(\"City Latitude vs. Humidity (\" + pd.datetime.today().strftime(\"%m/%d/%Y\") + \")\")\n",
    "plt.xlabel(\"Latitude\")\n",
    "plt.ylabel(\"Humidity (%)\")\n",
    "\n",
    "plt.savefig(\"output_data/City_Latitude_vs_Humidity.jpg\", bbox_inches=\"tight\")\n",
    "plt.show()"
   ]
  },
  {
   "cell_type": "markdown",
   "metadata": {},
   "source": [
    "#### Latitude vs. Cloudiness Plot"
   ]
  },
  {
   "cell_type": "code",
   "execution_count": 11,
   "metadata": {},
   "outputs": [
    {
     "data": {
      "image/png": "[encoded data removed]",
      "text/plain": [
       "<Figure size 432x288 with 1 Axes>"
      ]
     },
     "metadata": {
      "needs_background": "light"
     },
     "output_type": "display_data"
    }
   ],
   "source": [
    "## Latitude vs. Cloudiness Plot\n",
    "\n",
    "# Obtain the x and y coordinates for the plot\n",
    "plt.ylim(-4,105)\n",
    "plt.xlim(-61,83)\n",
    "# Build the scatter plots for the citys\n",
    "x_axisu = weather_data[\"Lat\"]\n",
    "y_axisu = weather_data[\"Cloudiness\"]\n",
    "\n",
    "# set the colors\n",
    "# temp_plot = plt.scatter(x_axisu, y_axisu, marker=\"o\", facecolors=\"lightcoral\",edgecolors=\"black\", s=10*dcu, alpha=0.75)\n",
    "temp_plot = plt.scatter(x_axisu, y_axisu, marker=\"o\", facecolors=\"plum\",edgecolors=\"black\", alpha=0.75)\n",
    "plt.grid()\n",
    "\n",
    "# add the titleing NOTE:pd.datetime.today().strftime(\"%m/%d/%Y\") calls todays date\n",
    "plt.title(\"City Latitude vs. Cloudiness (\" + pd.datetime.today().strftime(\"%m/%d/%Y\") + \")\")\n",
    "plt.xlabel(\"Latitude\")\n",
    "plt.ylabel(\"Cloudiness (%)\")\n",
    "\n",
    "plt.savefig(\"output_data/City_Latitude_vs_Cloudiness.jpg\", bbox_inches=\"tight\")\n",
    "plt.show()"
   ]
  },
  {
   "cell_type": "markdown",
   "metadata": {},
   "source": [
    "#### Latitude vs. Wind Speed Plot"
   ]
  },
  {
   "cell_type": "code",
   "execution_count": 12,
   "metadata": {},
   "outputs": [
    {
     "data": {
      "image/png": "[encoded data removed]",
      "text/plain": [
       "<Figure size 432x288 with 1 Axes>"
      ]
     },
     "metadata": {
      "needs_background": "light"
     },
     "output_type": "display_data"
    }
   ],
   "source": [
    "## Latitude vs. Wind Speed Plot\n",
    "\n",
    "# Obtain the x and y coordinates for the plot\n",
    "plt.ylim(-1,34)\n",
    "plt.xlim(-61,83)\n",
    "# Build the scatter plots for the citys\n",
    "x_axisu = weather_data[\"Lat\"]\n",
    "y_axisu = weather_data[\"Wind Speed\"]\n",
    "\n",
    "# set the colors\n",
    "# temp_plot = plt.scatter(x_axisu, y_axisu, marker=\"o\", facecolors=\"lightcoral\",edgecolors=\"black\", s=10*dcu, alpha=0.75)\n",
    "temp_plot = plt.scatter(x_axisu, y_axisu, marker=\"o\", facecolors=\"plum\",edgecolors=\"black\", alpha=0.75)\n",
    "plt.grid()\n",
    "\n",
    "# add the titleing NOTE:pd.datetime.today().strftime(\"%m/%d/%Y\") calls todays date\n",
    "plt.title(\"City Latitude vs. Wind Speed (\" + pd.datetime.today().strftime(\"%m/%d/%Y\") + \")\")\n",
    "plt.xlabel(\"Latitude\")\n",
    "plt.ylabel(\"Wind Speed (mph)\")\n",
    "\n",
    "plt.savefig(\"output_data/City_Latitude_vs_Wind_Speed.jpg\", bbox_inches=\"tight\")\n",
    "plt.show()"
   ]
  },
  {
   "cell_type": "code",
   "execution_count": null,
   "metadata": {},
   "outputs": [],
   "source": []
  },
  {
   "cell_type": "code",
   "execution_count": null,
   "metadata": {},
   "outputs": [],
   "source": []
  }
 ],
 "metadata": {
  "anaconda-cloud": {},
  "kernelspec": {
   "display_name": "Python 3",
   "language": "python",
   "name": "python3"
  },
  "language_info": {
   "codemirror_mode": {
    "name": "ipython",
    "version": 3
   },
   "file_extension": ".py",
   "mimetype": "text/x-python",
   "name": "python",
   "nbconvert_exporter": "python",
   "pygments_lexer": "ipython3",
   "version": "3.6.6"
  }
 },
 "nbformat": 4,
 "nbformat_minor": 2
}

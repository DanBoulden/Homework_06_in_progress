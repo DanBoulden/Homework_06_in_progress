{
 "cells": [
  {
   "cell_type": "markdown",
   "metadata": {},
   "source": [
    "# WeatherPy\n",
    "----\n",
    "\n",
    "### Analysis\n",
    "* As expected, the weather becomes significantly warmer as one approaches the equator (0 Deg. Latitude). More interestingly, however, is the fact that the southern hemisphere tends to be warmer this time of year than the northern hemisphere. This may be due to the tilt of the earth.\n",
    "* There is no strong relationship between latitude and cloudiness. However, it is interesting to see that a strong band of cities sits at 0, 80, and 100% cloudiness.\n",
    "* There is no strong relationship between latitude and wind speed. However, in northern hemispheres there is a flurry of cities with over 20 mph of wind.\n",
    "\n",
    "---\n",
    "\n",
    "#### Note\n",
    "* Instructions have been included for each segment. You do not have to follow them exactly, but they are included to help you think through the steps."
   ]
  },
  {
   "cell_type": "code",
   "execution_count": 1,
   "metadata": {
    "scrolled": true
   },
   "outputs": [],
   "source": [
    "# Dependencies and Setup\n",
    "import matplotlib.pyplot as plt\n",
    "import pandas as pd\n",
    "import numpy as np\n",
    "import requests\n",
    "import time\n",
    "\n",
    "\n",
    "# pip install citipy\n",
    "\n",
    "\n",
    "# Import API key\n",
    "# from config import api_keys\n",
    "import api_keys\n",
    "\n",
    "# \n",
    "# citipy = \"https://pypi.python.org/pypi/citipy\"\n",
    "# https://openweathermap.org/api\n",
    "\n",
    "# Incorporated citipy to determine city based on latitude and longitude\n",
    "from citipy import citipy\n",
    "\n",
    "# Output File (CSV)\n",
    "output_data_file = \"output_data/cities.csv\"\n",
    "final_output_data_file = \"output_data/cities_final.csv\"\n",
    "\n",
    "# Range of latitudes and longitudes\n",
    "lat_range = (-90, 90)\n",
    "lng_range = (-180, 180)"
   ]
  },
  {
   "cell_type": "code",
   "execution_count": null,
   "metadata": {},
   "outputs": [],
   "source": []
  },
  {
   "cell_type": "markdown",
   "metadata": {},
   "source": [
    "## Generate Cities List"
   ]
  },
  {
   "cell_type": "code",
   "execution_count": 2,
   "metadata": {},
   "outputs": [
    {
     "data": {
      "text/plain": [
       "602"
      ]
     },
     "execution_count": 2,
     "metadata": {},
     "output_type": "execute_result"
    }
   ],
   "source": [
    "# List for holding lat_lngs and cities\n",
    "lat_lngs = []\n",
    "cities = []\n",
    "\n",
    "# Create a set of random lat and lng combinations\n",
    "lats = np.random.uniform(low=-90.000, high=90.000, size=1500)\n",
    "lngs = np.random.uniform(low=-180.000, high=180.000, size=1500)\n",
    "lat_lngs = zip(lats, lngs)\n",
    "\n",
    "# Identify nearest city for each lat, lng combination\n",
    "for lat_lng in lat_lngs:\n",
    "    city = citipy.nearest_city(lat_lng[0], lat_lng[1]).city_name\n",
    "    \n",
    "    # If the city is unique, then add it to a our cities list\n",
    "    if city not in cities:\n",
    "        cities.append(city)\n",
    "\n",
    "# Print the city count to confirm sufficient count\n",
    "len(cities)\n"
   ]
  },
  {
   "cell_type": "code",
   "execution_count": null,
   "metadata": {},
   "outputs": [],
   "source": []
  },
  {
   "cell_type": "code",
   "execution_count": 3,
   "metadata": {
    "scrolled": true
   },
   "outputs": [
    {
     "name": "stdout",
     "output_type": "stream",
     "text": [
      "['san patricio', 'mataura', 'qaanaaq', 'sorland', 'tasiilaq', 'ushuaia', 'leningradskiy', 'athabasca', 'port elizabeth', 'bluff', 'cidreira', 'barrow', 'hermanus', 'kamenskoye', 'saskylakh', 'busselton', 'saint-donat-de-montcalm', 'port-cartier', 'salalah', 'bredasdorp', 'hobart', 'stoyba', 'anloga', 'tuktoyaktuk', 'rikitea', 'chuy', 'victoria point', 'dikson', 'atuona', 'puerto ayora', 'punta arenas', 'kodiak', 'illoqqortoormiut', 'torbay', 'mar del plata', 'nikolskoye', 'kieta', 'sampit', 'nantucket', 'mount gambier', 'adrar', 'pangkalanbuun', 'saint-augustin', 'omboue', 'aras', 'saleaula', 'havre-saint-pierre', 'alta floresta', 'batagay-alyta', 'punalur', 'tungor', 'lakselv', 'hobyo', 'nizhneyansk', 'labuhan', 'san andres', 'longyearbyen', 'vaini', 'belushya guba', 'sakakah', 'butaritari', 'hailar', 'severo-kurilsk', 'altamont', 'la joya', 'ambilobe', 'cacapava', 'albany', 'tura', 'hithadhoo', 'amderma', 'san lawrenz', 'makaha', 'matamoros', 'srednekolymsk', 'castro', 'saint-georges', 'villarrica', 'cockburn harbour', 'georgetown', 'sao marcos', 'whitehorse', 'hoi an', 'sainte-anne', 'nouadhibou', 'madrid', 'faanui', 'moindou', 'cabo san lucas', 'north bend', 'east london', 'provideniya', 'kaitangata', 'tiksi', 'katsuura', 'okha', 'chateauroux', 'catamarca', 'solnechnyy', 'havelock', 'pevek', 'kawalu', 'yashkul', 'cape town', 'khujner', 'mahebourg', 'brae', 'morro bay', 'jacareacanga', 'rawson', 'avarua', 'khatanga', 'quelimane', 'vila franca do campo', 'taolanaro', 'almeirim', 'laguna', 'makakilo city', 'ibra', 'kloulklubed', 'plonsk', 'rocha', 'isangel', 'praia da vitoria', 'coquimbo', 'upernavik', 'pudem', 'algiers', 'lavrentiya', 'ribeira grande', 'klaksvik', 'port alfred', 'orcopampa', 'yarmouth', 'gigmoto', 'nome', 'cockburn town', 'scottsburgh', 'kutum', 'sioux lookout', 'jamestown', 'normandin', 'esperance', 'mana', 'sambava', 'broken hill', 'kapaa', 'mykolayiv', 'bouna', 'nguiu', 'oranjestad', 'dakar', 'ilulissat', 'new norfolk', 'saldanha', 'hualmay', 'saint-philippe', 'pitimbu', 'attawapiskat', 'vaitupu', 'port lincoln', 'labuan', 'iqaluit', 'auchi', 'muros', 'the valley', 'egersund', 'college', 'tumannyy', 'sumbe', 'santa fe', 'jalu', 'lieksa', 'teya', 'lolua', 'mozirje', 'elwood', 'saint george', 'stepantsevo', 'esso', 'acari', 'palabuhanratu', 'iquitos', 'bethel', 'flinders', 'hamilton', 'luderitz', 'japura', 'pemangkat', 'ende', 'gat', 'chernyshevskiy', 'geresk', 'parkersburg', 'mecca', 'sentyabrskiy', 'nouakchott', 'nelson bay', 'te anau', 'ocos', 'tuysarkan', 'constitucion', 'yabelo', 'whyalla', 'cocachacra', 'higuey', 'yellowknife', 'noyabrsk', 'thiruvananthapuram', 'matagami', 'turtkul', 'forest grove', 'sao filipe', 'hakkari', 'urubicha', 'hilo', 'sumter', 'dunedin', 'kahului', 'khandyga', 'nyurba', 'dayong', 'susanville', 'norman wells', 'marfino', 'ardrishaig', 'shimoda', 'ostrovnoy', 'arraial do cabo', 'amboasary', 'presidencia roque saenz pena', 'pangody', 'sabha', 'kargasok', 'sibu', 'bargal', 'aksu', 'valparaiso', 'clyde river', 'kavieng', 'manzhouli', 'sangar', 'ossora', 'thompson', 'alihe', 'tuatapere', 'port hardy', 'olavarria', 'caravelas', 'cananeia', 'bathsheba', 'alyangula', 'hasaki', 'santa barbara', 'pizarro', 'carutapera', 'kapit', 'atar', 'puri', 'mayo', 'tevaitoa', 'ribas do rio pardo', 'valverde del camino', 'aripuana', 'tuskegee', 'ushibuka', 'egvekinot', 'airai', 'margate', 'asyut', 'jaru', 'vila velha', 'carnarvon', 'sicamous', 'lebu', 'xingyi', 'haibowan', 'nishihara', 'ponta do sol', 'barinas', 'ishigaki', 'lagoa', 'saint anthony', 'ust-nera', 'sao geraldo do araguaia', 'icatu', 'el dorado', 'yatou', 'aykhal', 'namibe', 'narsaq', 'kautokeino', 'lar gerd', 'bengkulu', 'jumla', 'gazli', 'coihaique', 'castlegar', 'abu kamal', 'chokurdakh', 'saint-joseph', 'puerto ayacucho', 'tucurui', 'levokumskoye', 'bolungarvik', 'antofagasta', 'ajaccio', 'auburn', 'lata', 'fare', 'hoquiam', 'abu dhabi', 'calatayud', 'namatanai', 'honiara', 'grindavik', 'aksay', 'naze', 'pisco', 'ahuimanu', 'hokitika', 'cangzhou', 'ritchie', 'vyazemskiy', 'tsihombe', 'saint-leu', 'guararapes', 'beauvais', 'meyungs', 'bosaso', 'kununurra', 'morondava', 'talnakh', 'sirjan', 'dryden', 'byadgi', 'souillac', 'turukhansk', 'chicama', 'rolim de moura', 'smolenka', 'sawtell', 'flin flon', 'gvarv', 'ambon', 'alice springs', 'bandarbeyla', 'pimentel', 'kholodnyy', 'matara', 'upata', 'louisbourg', 'bang saphan', 'barabai', 'le vauclin', 'barentsburg', 'chernyanka', 'tabory', 'olafsvik', 'lorengau', 'bambanglipuro', 'bambous virieux', 'samusu', 'fiumicino', 'waipawa', 'sevierville', 'kidal', 'luanda', 'seoul', 'ferkessedougou', 'williams lake', 'kinshasa', 'todos santos', 'praia', 'pokanayevka', 'say', 'sao joao da barra', 'zaragoza', 'kavaratti', 'mergui', 'eruwa', 'yulara', 'ancud', 'alamosa', 'rahuri', 'tiarei', 'along', 'lompoc', 'artyk', 'alekseyevskoye', 'camacha', 'duekoue', 'niksic', 'vostok', 'kisangani', 'nagato', 'soloneshnoye', 'mount isa', 'auki', 'bequimao', 'de aar', 'feicheng', 'rantepao', 'vardo', 'rabo de peixe', 'harrismith', 'alofi', 'pathein', 'zakamensk', 'gravelbourg', 'patrocinio', 'samana', 'bahir dar', 'beringovskiy', 'tharad', 'bubaque', 'nueve de julio', 'gold coast', 'viedma', 'xiaoweizhai', 'kurilsk', 'krasnoarmeysk', 'victoria', 'mbanza-ngungu', 'geraldton', 'barawe', 'sirsa', 'dalby', 'limbuhan', 'sovetskiy', 'grand river south east', 'siirt', 'pritzwalk', 'san quintin', 'akonolinga', 'sarangani', 'abnub', 'vianopolis', 'warqla', 'clovis', 'hervey bay', 'samarai', 'baranain', 'krasnoselkup', 'machico', 'ambanja', 'fairbanks', 'wattegama', 'hofn', 'ketchikan', 'salym', 'formosa do rio preto', 'yirol', 'coahuayana', 'marawi', 'ratnagiri', 'tabulbah', 'hay river', 'stornoway', 'bima', 'talara', 'dhidhdhoo', 'saint augustine', 'lubao', 'larsnes', 'aloleng', 'llanes', 'rahatgarh', 'tuggurt', 'hambantota', 'mehamn', 'yangjiang', 'kirakira', 'itarema', 'olga', 'poum', 'maragogi', 'panaba', 'meulaboh', 'hami', 'arrifes', 'ormond beach', 'maple creek', 'barcelos', 'wahpeton', 'zaozerne', 'ahipara', 'conselheiro pena', 'necochea', 'shache', 'harper', 'banda aceh', 'mudanya', 'sola', 'esmeraldas', 'silikatnyy', 'cherskiy', 'byron bay', 'hanna', 'lagos', 'codrington', 'tabuk', 'soyo', 'lubango', 'cangucu', 'sassandra', 'itupiranga', 'acapulco', 'sept-iles', 'tacuarembo', 'west wendover', 'manadhoo', 'virden', 'alampur', 'ulaanbaatar', 'atambua', 'kachiry', 'chake chake', 'zaysan', 'vestmannaeyjar', 'churapcha', 'asmara', 'cap malheureux', 'jadu', 'gobabis', 'marsa matruh', 'winnemucca', 'jambi', 'selyatino', 'toamasina', 'haines junction', 'hilton head island', 'ponta delgada', 'saint-francois', 'tadine', 'palmas bellas', 'chapais', 'najran', 'mendahara', 'arman', 'kegayli', 'morant bay', 'telemaco borba', 'kabo', 'otaru', 'turinsk', 'nuuk', 'verkhnyaya inta', 'borgarnes', 'zelenoborskiy', 'touros', 'kruisfontein', 'tongren', 'anadyr', 'nioro', 'luganville', 'aklavik', 'saint-pierre', 'campbell river', 'itoman', 'belyy yar', 'lamu', 'chabahar', 'tyulgan', 'garmsar', 'cabedelo', 'valparai', 'faya', 'san fernando', 'lasa', 'jiaxing', 'dubrovnik', 'luba', 'comodoro rivadavia', 'mporokoso', 'tshane', 'woodburn', 'ulaangom', 'kasongo-lunda', 'trincomalee', 'khair', 'atasu', 'umzimvubu', 'orlik', 'trelew', 'nenjiang', 'palmer', 'vyartsilya', 'maldonado', 'kaseda', 'solsvik', 'kaupanger', 'wufeng', 'frutal', 'aswan', 'oussouye', 'johnshaven', 'wahran', 'san rafael', 'wuda', 'guane', 'novogurovskiy']\n"
     ]
    }
   ],
   "source": [
    "print(cities)"
   ]
  },
  {
   "cell_type": "code",
   "execution_count": 13,
   "metadata": {},
   "outputs": [],
   "source": [
    "### Saving out the city pull [swithcer between the full and 10]\n",
    "\n",
    "# Switch the # between the next two lines to get ether all of the cities or just the first 10\n",
    "\n",
    "# all cities\n",
    "# cities_df = pd.DataFrame(cities, columns=[\"city\"])\n",
    "\n",
    "# Just the first 10 cities\n",
    "cities_df = pd.DataFrame(cities[:10], columns=[\"city\"])\n",
    "\n",
    "\n",
    "# Creates the CSV file\n",
    "cities_df.to_csv(output_data_file, header=True, index=False)"
   ]
  },
  {
   "cell_type": "markdown",
   "metadata": {},
   "source": [
    "### Perform API Calls\n",
    "* Perform a weather check on each city using a series of successive API calls.\n",
    "* Include a print log of each city as it'sbeing processed (with the city number and city name).\n"
   ]
  },
  {
   "cell_type": "code",
   "execution_count": 5,
   "metadata": {},
   "outputs": [
    {
     "name": "stdout",
     "output_type": "stream",
     "text": [
      "Processing Record 1 of 10 | san patricio\n",
      "Processing Record 2 of 10 | mataura\n",
      "Processing Record 3 of 10 | qaanaaq\n",
      "Processing Record 4 of 10 | sorland\n",
      "Processing Record 5 of 10 | tasiilaq\n",
      "Processing Record 6 of 10 | ushuaia\n",
      "Processing Record 7 of 10 | leningradskiy\n",
      "Processing Record 8 of 10 | athabasca\n",
      "Processing Record 9 of 10 | port elizabeth\n",
      "Processing Record 10 of 10 | bluff\n"
     ]
    },
    {
     "data": {
      "text/html": [
       "<div>\n",
       "<style scoped>\n",
       "    .dataframe tbody tr th:only-of-type {\n",
       "        vertical-align: middle;\n",
       "    }\n",
       "\n",
       "    .dataframe tbody tr th {\n",
       "        vertical-align: top;\n",
       "    }\n",
       "\n",
       "    .dataframe thead th {\n",
       "        text-align: right;\n",
       "    }\n",
       "</style>\n",
       "<table border=\"1\" class=\"dataframe\">\n",
       "  <thead>\n",
       "    <tr style=\"text-align: right;\">\n",
       "      <th></th>\n",
       "      <th>City</th>\n",
       "      <th>Cloudiness</th>\n",
       "      <th>Country</th>\n",
       "      <th>Date</th>\n",
       "      <th>Humidity</th>\n",
       "      <th>Lat</th>\n",
       "      <th>Lng</th>\n",
       "      <th>Max Temp</th>\n",
       "      <th>Wind Speed</th>\n",
       "    </tr>\n",
       "  </thead>\n",
       "  <tbody>\n",
       "    <tr>\n",
       "      <th>0</th>\n",
       "      <td>San Patricio</td>\n",
       "      <td>8</td>\n",
       "      <td>PY</td>\n",
       "      <td>1547304348</td>\n",
       "      <td>79</td>\n",
       "      <td>-26.98</td>\n",
       "      <td>-56.83</td>\n",
       "      <td>87.96</td>\n",
       "      <td>3.71</td>\n",
       "    </tr>\n",
       "    <tr>\n",
       "      <th>1</th>\n",
       "      <td>Mataura</td>\n",
       "      <td>64</td>\n",
       "      <td>NZ</td>\n",
       "      <td>1547304350</td>\n",
       "      <td>92</td>\n",
       "      <td>-46.19</td>\n",
       "      <td>168.86</td>\n",
       "      <td>45.39</td>\n",
       "      <td>2.71</td>\n",
       "    </tr>\n",
       "    <tr>\n",
       "      <th>2</th>\n",
       "      <td>Qaanaaq</td>\n",
       "      <td>0</td>\n",
       "      <td>GL</td>\n",
       "      <td>1547304351</td>\n",
       "      <td>99</td>\n",
       "      <td>77.48</td>\n",
       "      <td>-69.36</td>\n",
       "      <td>-22.92</td>\n",
       "      <td>5.95</td>\n",
       "    </tr>\n",
       "    <tr>\n",
       "      <th>3</th>\n",
       "      <td>Sorland</td>\n",
       "      <td>80</td>\n",
       "      <td>NO</td>\n",
       "      <td>1547304353</td>\n",
       "      <td>100</td>\n",
       "      <td>67.67</td>\n",
       "      <td>12.69</td>\n",
       "      <td>36.30</td>\n",
       "      <td>14.90</td>\n",
       "    </tr>\n",
       "    <tr>\n",
       "      <th>4</th>\n",
       "      <td>Tasiilaq</td>\n",
       "      <td>75</td>\n",
       "      <td>GL</td>\n",
       "      <td>1547301000</td>\n",
       "      <td>78</td>\n",
       "      <td>65.61</td>\n",
       "      <td>-37.64</td>\n",
       "      <td>17.60</td>\n",
       "      <td>12.75</td>\n",
       "    </tr>\n",
       "    <tr>\n",
       "      <th>5</th>\n",
       "      <td>Ushuaia</td>\n",
       "      <td>75</td>\n",
       "      <td>AR</td>\n",
       "      <td>1547301600</td>\n",
       "      <td>86</td>\n",
       "      <td>-54.81</td>\n",
       "      <td>-68.31</td>\n",
       "      <td>42.80</td>\n",
       "      <td>34.45</td>\n",
       "    </tr>\n",
       "    <tr>\n",
       "      <th>6</th>\n",
       "      <td>Leningradskiy</td>\n",
       "      <td>8</td>\n",
       "      <td>RU</td>\n",
       "      <td>1547304357</td>\n",
       "      <td>100</td>\n",
       "      <td>69.38</td>\n",
       "      <td>178.42</td>\n",
       "      <td>-17.97</td>\n",
       "      <td>8.52</td>\n",
       "    </tr>\n",
       "    <tr>\n",
       "      <th>7</th>\n",
       "      <td>Athabasca</td>\n",
       "      <td>8</td>\n",
       "      <td>CA</td>\n",
       "      <td>1547304335</td>\n",
       "      <td>63</td>\n",
       "      <td>54.72</td>\n",
       "      <td>-113.29</td>\n",
       "      <td>2.46</td>\n",
       "      <td>3.15</td>\n",
       "    </tr>\n",
       "    <tr>\n",
       "      <th>8</th>\n",
       "      <td>Port Elizabeth</td>\n",
       "      <td>1</td>\n",
       "      <td>US</td>\n",
       "      <td>1547301360</td>\n",
       "      <td>59</td>\n",
       "      <td>39.31</td>\n",
       "      <td>-74.98</td>\n",
       "      <td>27.50</td>\n",
       "      <td>5.82</td>\n",
       "    </tr>\n",
       "    <tr>\n",
       "      <th>9</th>\n",
       "      <td>Bluff</td>\n",
       "      <td>0</td>\n",
       "      <td>AU</td>\n",
       "      <td>1547304361</td>\n",
       "      <td>71</td>\n",
       "      <td>-23.58</td>\n",
       "      <td>149.07</td>\n",
       "      <td>73.34</td>\n",
       "      <td>10.98</td>\n",
       "    </tr>\n",
       "  </tbody>\n",
       "</table>\n",
       "</div>"
      ],
      "text/plain": [
       "             City  Cloudiness Country        Date  Humidity    Lat     Lng  \\\n",
       "0    San Patricio           8      PY  1547304348        79 -26.98  -56.83   \n",
       "1         Mataura          64      NZ  1547304350        92 -46.19  168.86   \n",
       "2         Qaanaaq           0      GL  1547304351        99  77.48  -69.36   \n",
       "3         Sorland          80      NO  1547304353       100  67.67   12.69   \n",
       "4        Tasiilaq          75      GL  1547301000        78  65.61  -37.64   \n",
       "5         Ushuaia          75      AR  1547301600        86 -54.81  -68.31   \n",
       "6   Leningradskiy           8      RU  1547304357       100  69.38  178.42   \n",
       "7       Athabasca           8      CA  1547304335        63  54.72 -113.29   \n",
       "8  Port Elizabeth           1      US  1547301360        59  39.31  -74.98   \n",
       "9           Bluff           0      AU  1547304361        71 -23.58  149.07   \n",
       "\n",
       "   Max Temp  Wind Speed  \n",
       "0     87.96        3.71  \n",
       "1     45.39        2.71  \n",
       "2    -22.92        5.95  \n",
       "3     36.30       14.90  \n",
       "4     17.60       12.75  \n",
       "5     42.80       34.45  \n",
       "6    -17.97        8.52  \n",
       "7      2.46        3.15  \n",
       "8     27.50        5.82  \n",
       "9     73.34       10.98  "
      ]
     },
     "execution_count": 5,
     "metadata": {},
     "output_type": "execute_result"
    }
   ],
   "source": [
    "import openweathermapy as owm\n",
    "import csv\n",
    "#config\n",
    "from api_keys import api_key\n",
    "\n",
    "\n",
    "# from urllib2 import HTTPError\n",
    "from urllib.error import HTTPError\n",
    "\n",
    "colnames = ['city']\n",
    "data = pd.read_csv(output_data_file, names=colnames)\n",
    "cities_list = data.city.tolist()\n",
    "\n",
    "# removes the word Cities from our list\n",
    "del cities_list[0]\n",
    "# print(cities_list)\n",
    "\n",
    "# Create settings dictionary with information we're interested in\n",
    "# settings = {\"units\": \"Fahrenheit\", \"appid\": api_key}\n",
    "# settings = {\"appid\": api_key, \"&units=\": \"fahrenheit\"}\n",
    "settings = {\"units\": \"imperial\", \"appid\": api_key}\n",
    "# &units=\n",
    "# units = [\"Fahrenheit\"]\n",
    "\n",
    "# query_url = \"https://api.openweathermap.org/data/2.5/weather?q=\"\n",
    "\n",
    "url = \"https://api.openweathermap.org/data/2.5/weather?q=\"\n",
    "\n",
    "# https://samples.openweathermap.org/data/2.5/weather?q=London\n",
    "# https://samples.openweathermap.org/data/2.5/weather?q=\n",
    "# London\n",
    "# api.openweathermap.org/data/2.5/weather?q=London&appid=api_key\n",
    "\n",
    "#-------------------------------------------------------------\n",
    "\n",
    "name = []\n",
    "cloudiness = []\n",
    "country = []\n",
    "date = []\n",
    "humidity = []\n",
    "lat = []\n",
    "lon = []\n",
    "maxtemp = []\n",
    "windspeed = []\n",
    "i = 0\n",
    "\n",
    "for city in cities_list:\n",
    "    try:\n",
    "        response = requests.get(url + city + \"&units=imperial\" + \"&appid=\" + api_key).json()\n",
    "        name.append(response['name'])\n",
    "        cloudiness.append(response['clouds']['all'])\n",
    "        country.append(response['sys']['country'])\n",
    "        date.append(response['dt'])\n",
    "        humidity.append(response['main']['humidity'])\n",
    "        lat.append(response['coord']['lat'])\n",
    "        lon.append(response['coord']['lon'])\n",
    "        maxtemp.append(response['main']['temp_max'])\n",
    "        windspeed.append(response['wind']['speed'])\n",
    "        i = i + 1\n",
    "        print(f\"Processing Record {i} of {len(cities_list)} | {city}\")\n",
    "        time.sleep(1)\n",
    "    except Exception as x:\n",
    "#         print(x)\n",
    "        print(f\"City not found. Skipping \", city)\n",
    "        pass\n",
    "\n",
    "#     for index, city in cities_list.iterrows():\n",
    "#     for city in cities_list.iterrows():\n",
    "#         print(f\"Processing Record \", str(row), \" of \", len(cities), f\" | \", city)\n",
    "#         print(f\"Processing Record \", [], \" of \", len(cities), f\" | \", city)\n",
    "# except Exception:\n",
    "# print(\"Oops, that city doesn't exist... skipping\")    \n",
    "\n",
    "# except KeyError:\n",
    "# HTTPError: HTTP Error 404: Not Found\n",
    "# except (KeyError, HTTPError, IndexError):\n",
    "    \n",
    "\n",
    "weather_data = pd.DataFrame({\n",
    "    \"City\": name,\n",
    "    \"Cloudiness\": cloudiness,\n",
    "    \"Country\": country,\n",
    "    \"Date\": date,\n",
    "    \"Humidity\": humidity,\n",
    "    \"Lat\": lat,\n",
    "    \"Lng\": lon,\n",
    "    \"Max Temp\": maxtemp,\n",
    "    \"Wind Speed\": windspeed})\n",
    "weather_data    \n",
    "\n",
    "# print(response)\n",
    "#-------------------------------------------------------------\n",
    "\n",
    "\n",
    "\n",
    "# weather_data = []\n",
    "# with open(\"output_data/cities.csv\") as cities_file:\n",
    "#     cities_reader = csv.reader(cities_file)\n",
    "#     cities = [city[0] for city in cities_reader]\n",
    "#     weather_data = [owm.get_current(city, **settings) for city in cities]\n",
    "\n",
    "# # print(weather_data)    \n",
    "\n",
    "\n",
    "# summary = [\"name\", \"clouds.all\", \"sys.country\", \"dt\", \"main.humidity\", \"coord.lat\", \"coord.lon\", \"main.temp_max\", \"wind.speed\", \"cod\"]\n",
    "# data = [response(*summary) for response in weather_data]\n",
    "\n",
    "# weather_data = pd.DataFrame(data)\n",
    "# # weather_data = pd.DataFrame(data, index=cities)\n",
    "# weather_data.columns = [\"City\", \"Cloudiness\", \"Country\", \"Date\", \"Humidity\", \"Lat\", \"Lng\", \"Max Temp\", \"Wind Speed\", \"cod\"]\n",
    "\n",
    "# # weather_data = pd.DataFrame(data, index=False)\n",
    "# # weather_data\n",
    "\n",
    "\n",
    "# # api.openweathermap.org/data/2.5/weather?q=balimo\n",
    "# # https://samples.openweathermap.org/data/2.5/weather?q=London&appid=b6907d289e10d714a6e88b30761fae22\n",
    "\n",
    "\n",
    "\n",
    "\n",
    "\n",
    "##########################################################################################\n",
    "####################### NEEDS ERROR CHECKING FOR HTTPError: ~404 #########################\n",
    "##########################################################################################"
   ]
  },
  {
   "cell_type": "markdown",
   "metadata": {},
   "source": [
    "### Convert Raw Data to DataFrame\n",
    "* Export the city data into a .csv.\n",
    "* Display the DataFrame"
   ]
  },
  {
   "cell_type": "code",
   "execution_count": 6,
   "metadata": {},
   "outputs": [],
   "source": [
    "# weather_data = pd.DataFrame(data, columns=[\"City\", \"Cloudiness\", \n",
    "#                                           \"Country\", \"Date\", \n",
    "#                                           \"Humidity\", \"Lat\", \"Lng\", \n",
    "#                                           \"Max Temp\", \"Wind Speed\", \"cod\"])\n",
    "weather_data.to_csv(final_output_data_file, header=True, index=False)\n",
    "\n"
   ]
  },
  {
   "cell_type": "code",
   "execution_count": 7,
   "metadata": {},
   "outputs": [
    {
     "data": {
      "text/plain": [
       "City          10\n",
       "Cloudiness    10\n",
       "Country       10\n",
       "Date          10\n",
       "Humidity      10\n",
       "Lat           10\n",
       "Lng           10\n",
       "Max Temp      10\n",
       "Wind Speed    10\n",
       "dtype: int64"
      ]
     },
     "execution_count": 7,
     "metadata": {},
     "output_type": "execute_result"
    }
   ],
   "source": [
    "weather_data.count()"
   ]
  },
  {
   "cell_type": "code",
   "execution_count": 8,
   "metadata": {},
   "outputs": [
    {
     "data": {
      "text/html": [
       "<div>\n",
       "<style scoped>\n",
       "    .dataframe tbody tr th:only-of-type {\n",
       "        vertical-align: middle;\n",
       "    }\n",
       "\n",
       "    .dataframe tbody tr th {\n",
       "        vertical-align: top;\n",
       "    }\n",
       "\n",
       "    .dataframe thead th {\n",
       "        text-align: right;\n",
       "    }\n",
       "</style>\n",
       "<table border=\"1\" class=\"dataframe\">\n",
       "  <thead>\n",
       "    <tr style=\"text-align: right;\">\n",
       "      <th></th>\n",
       "      <th>City</th>\n",
       "      <th>Cloudiness</th>\n",
       "      <th>Country</th>\n",
       "      <th>Date</th>\n",
       "      <th>Humidity</th>\n",
       "      <th>Lat</th>\n",
       "      <th>Lng</th>\n",
       "      <th>Max Temp</th>\n",
       "      <th>Wind Speed</th>\n",
       "    </tr>\n",
       "  </thead>\n",
       "  <tbody>\n",
       "    <tr>\n",
       "      <th>0</th>\n",
       "      <td>San Patricio</td>\n",
       "      <td>8</td>\n",
       "      <td>PY</td>\n",
       "      <td>1547304348</td>\n",
       "      <td>79</td>\n",
       "      <td>-26.98</td>\n",
       "      <td>-56.83</td>\n",
       "      <td>87.96</td>\n",
       "      <td>3.71</td>\n",
       "    </tr>\n",
       "    <tr>\n",
       "      <th>1</th>\n",
       "      <td>Mataura</td>\n",
       "      <td>64</td>\n",
       "      <td>NZ</td>\n",
       "      <td>1547304350</td>\n",
       "      <td>92</td>\n",
       "      <td>-46.19</td>\n",
       "      <td>168.86</td>\n",
       "      <td>45.39</td>\n",
       "      <td>2.71</td>\n",
       "    </tr>\n",
       "    <tr>\n",
       "      <th>2</th>\n",
       "      <td>Qaanaaq</td>\n",
       "      <td>0</td>\n",
       "      <td>GL</td>\n",
       "      <td>1547304351</td>\n",
       "      <td>99</td>\n",
       "      <td>77.48</td>\n",
       "      <td>-69.36</td>\n",
       "      <td>-22.92</td>\n",
       "      <td>5.95</td>\n",
       "    </tr>\n",
       "    <tr>\n",
       "      <th>3</th>\n",
       "      <td>Sorland</td>\n",
       "      <td>80</td>\n",
       "      <td>NO</td>\n",
       "      <td>1547304353</td>\n",
       "      <td>100</td>\n",
       "      <td>67.67</td>\n",
       "      <td>12.69</td>\n",
       "      <td>36.30</td>\n",
       "      <td>14.90</td>\n",
       "    </tr>\n",
       "    <tr>\n",
       "      <th>4</th>\n",
       "      <td>Tasiilaq</td>\n",
       "      <td>75</td>\n",
       "      <td>GL</td>\n",
       "      <td>1547301000</td>\n",
       "      <td>78</td>\n",
       "      <td>65.61</td>\n",
       "      <td>-37.64</td>\n",
       "      <td>17.60</td>\n",
       "      <td>12.75</td>\n",
       "    </tr>\n",
       "  </tbody>\n",
       "</table>\n",
       "</div>"
      ],
      "text/plain": [
       "           City  Cloudiness Country        Date  Humidity    Lat     Lng  \\\n",
       "0  San Patricio           8      PY  1547304348        79 -26.98  -56.83   \n",
       "1       Mataura          64      NZ  1547304350        92 -46.19  168.86   \n",
       "2       Qaanaaq           0      GL  1547304351        99  77.48  -69.36   \n",
       "3       Sorland          80      NO  1547304353       100  67.67   12.69   \n",
       "4      Tasiilaq          75      GL  1547301000        78  65.61  -37.64   \n",
       "\n",
       "   Max Temp  Wind Speed  \n",
       "0     87.96        3.71  \n",
       "1     45.39        2.71  \n",
       "2    -22.92        5.95  \n",
       "3     36.30       14.90  \n",
       "4     17.60       12.75  "
      ]
     },
     "execution_count": 8,
     "metadata": {},
     "output_type": "execute_result"
    }
   ],
   "source": [
    "weather_data.head()"
   ]
  },
  {
   "cell_type": "markdown",
   "metadata": {},
   "source": [
    "### Plotting the Data\n",
    "* Use proper labeling of the plots using plot titles (including date of analysis) and axes labels.\n",
    "* Save the plotted figures as .pngs."
   ]
  },
  {
   "cell_type": "markdown",
   "metadata": {},
   "source": [
    "#### Latitude vs. Temperature Plot"
   ]
  },
  {
   "cell_type": "code",
   "execution_count": 9,
   "metadata": {},
   "outputs": [
    {
     "data": {
      "image/png": "[encoded data removed]",
      "text/plain": [
       "<Figure size 432x288 with 1 Axes>"
      ]
     },
     "metadata": {
      "needs_background": "light"
     },
     "output_type": "display_data"
    }
   ],
   "source": [
    "## Latitude vs. Temperature Plot\n",
    "\n",
    "# Obtain the x and y coordinates for the plot\n",
    "plt.ylim(21,105)\n",
    "# plt.ylim(21,315)\n",
    "plt.xlim(-61,83)\n",
    "# Build the scatter plots for the citys\n",
    "x_axisu = weather_data[\"Lat\"]\n",
    "y_axisu = weather_data[\"Max Temp\"]\n",
    "\n",
    "# set the colors\n",
    "# temp_plot = plt.scatter(x_axisu, y_axisu, marker=\"o\", facecolors=\"lightcoral\",edgecolors=\"black\", s=10*dcu, alpha=0.75)\n",
    "temp_plot = plt.scatter(x_axisu, y_axisu, marker=\"o\", facecolors=\"plum\",edgecolors=\"black\", alpha=0.75)\n",
    "plt.grid()\n",
    "\n",
    "# add the titleing NOTE:pd.datetime.today().strftime(\"%m/%d/%Y\") calls todays date\n",
    "plt.title(\"City Latitude vs. Max Temperature (\" + pd.datetime.today().strftime(\"%m/%d/%Y\") + \")\")\n",
    "plt.xlabel(\"Latitude\")\n",
    "plt.ylabel(\"Max Temperature (F)\")\n",
    "\n",
    "\n",
    "##########################################################################################\n",
    "#######################      NEEDS conversiton to Fahrenheit     #########################\n",
    "############# When this happens change plt.ylim(21,315) back to plt.ylim(21,105) #########\n",
    "##########################################################################################\n",
    "\n",
    "plt.savefig(\"output_data/City_Latitude_vs_Max_Temperature.jpg\", bbox_inches=\"tight\")\n",
    "plt.show()"
   ]
  },
  {
   "cell_type": "markdown",
   "metadata": {},
   "source": [
    "#### Latitude vs. Humidity Plot"
   ]
  },
  {
   "cell_type": "code",
   "execution_count": 10,
   "metadata": {},
   "outputs": [
    {
     "data": {
      "image/png": "[encoded data removed]",
      "text/plain": [
       "<Figure size 432x288 with 1 Axes>"
      ]
     },
     "metadata": {
      "needs_background": "light"
     },
     "output_type": "display_data"
    }
   ],
   "source": [
    "## Latitude vs. Humidity Plot\n",
    "\n",
    "# Obtain the x and y coordinates for the plot\n",
    "plt.ylim(21,105)\n",
    "# plt.ylim(21,315)\n",
    "plt.xlim(-61,83)\n",
    "# Build the scatter plots for the citys\n",
    "x_axisu = weather_data[\"Lat\"]\n",
    "y_axisu = weather_data[\"Humidity\"]\n",
    "\n",
    "# set the colors\n",
    "# temp_plot = plt.scatter(x_axisu, y_axisu, marker=\"o\", facecolors=\"lightcoral\",edgecolors=\"black\", s=10*dcu, alpha=0.75)\n",
    "temp_plot = plt.scatter(x_axisu, y_axisu, marker=\"o\", facecolors=\"plum\",edgecolors=\"black\", alpha=0.75)\n",
    "plt.grid()\n",
    "\n",
    "# add the titleing NOTE:pd.datetime.today().strftime(\"%m/%d/%Y\") calls todays date\n",
    "plt.title(\"City Latitude vs. Humidity (\" + pd.datetime.today().strftime(\"%m/%d/%Y\") + \")\")\n",
    "plt.xlabel(\"Latitude\")\n",
    "plt.ylabel(\"Humidity (%)\")\n",
    "\n",
    "plt.savefig(\"output_data/City_Latitude_vs_Humidity.jpg\", bbox_inches=\"tight\")\n",
    "plt.show()"
   ]
  },
  {
   "cell_type": "markdown",
   "metadata": {},
   "source": [
    "#### Latitude vs. Cloudiness Plot"
   ]
  },
  {
   "cell_type": "code",
   "execution_count": 11,
   "metadata": {
    "scrolled": true
   },
   "outputs": [
    {
     "data": {
      "image/png": "[encoded data removed]",
      "text/plain": [
       "<Figure size 432x288 with 1 Axes>"
      ]
     },
     "metadata": {
      "needs_background": "light"
     },
     "output_type": "display_data"
    }
   ],
   "source": [
    "## Latitude vs. Cloudiness Plot\n",
    "\n",
    "# Obtain the x and y coordinates for the plot\n",
    "plt.ylim(-4,105)\n",
    "plt.xlim(-61,83)\n",
    "# Build the scatter plots for the citys\n",
    "x_axisu = weather_data[\"Lat\"]\n",
    "y_axisu = weather_data[\"Cloudiness\"]\n",
    "\n",
    "# set the colors\n",
    "# temp_plot = plt.scatter(x_axisu, y_axisu, marker=\"o\", facecolors=\"lightcoral\",edgecolors=\"black\", s=10*dcu, alpha=0.75)\n",
    "temp_plot = plt.scatter(x_axisu, y_axisu, marker=\"o\", facecolors=\"plum\",edgecolors=\"black\", alpha=0.75)\n",
    "plt.grid()\n",
    "\n",
    "# add the titleing NOTE:pd.datetime.today().strftime(\"%m/%d/%Y\") calls todays date\n",
    "plt.title(\"City Latitude vs. Cloudiness (\" + pd.datetime.today().strftime(\"%m/%d/%Y\") + \")\")\n",
    "plt.xlabel(\"Latitude\")\n",
    "plt.ylabel(\"Cloudiness (%)\")\n",
    "\n",
    "plt.savefig(\"output_data/City_Latitude_vs_Cloudiness.jpg\", bbox_inches=\"tight\")\n",
    "plt.show()"
   ]
  },
  {
   "cell_type": "markdown",
   "metadata": {},
   "source": [
    "#### Latitude vs. Wind Speed Plot"
   ]
  },
  {
   "cell_type": "code",
   "execution_count": 12,
   "metadata": {},
   "outputs": [
    {
     "data": {
      "image/png": "[encoded data removed]",
      "text/plain": [
       "<Figure size 432x288 with 1 Axes>"
      ]
     },
     "metadata": {
      "needs_background": "light"
     },
     "output_type": "display_data"
    }
   ],
   "source": [
    "## Latitude vs. Wind Speed Plot\n",
    "\n",
    "# Obtain the x and y coordinates for the plot\n",
    "plt.ylim(-1,34)\n",
    "plt.xlim(-61,83)\n",
    "# Build the scatter plots for the citys\n",
    "x_axisu = weather_data[\"Lat\"]\n",
    "y_axisu = weather_data[\"Wind Speed\"]\n",
    "\n",
    "# set the colors\n",
    "# temp_plot = plt.scatter(x_axisu, y_axisu, marker=\"o\", facecolors=\"lightcoral\",edgecolors=\"black\", s=10*dcu, alpha=0.75)\n",
    "temp_plot = plt.scatter(x_axisu, y_axisu, marker=\"o\", facecolors=\"plum\",edgecolors=\"black\", alpha=0.75)\n",
    "plt.grid()\n",
    "\n",
    "# add the titleing NOTE:pd.datetime.today().strftime(\"%m/%d/%Y\") calls todays date\n",
    "plt.title(\"City Latitude vs. Wind Speed (\" + pd.datetime.today().strftime(\"%m/%d/%Y\") + \")\")\n",
    "plt.xlabel(\"Latitude\")\n",
    "plt.ylabel(\"Wind Speed (mph)\")\n",
    "\n",
    "plt.savefig(\"output_data/City_Latitude_vs_Wind_Speed.jpg\", bbox_inches=\"tight\")\n",
    "plt.show()"
   ]
  },
  {
   "cell_type": "code",
   "execution_count": null,
   "metadata": {},
   "outputs": [],
   "source": []
  },
  {
   "cell_type": "code",
   "execution_count": null,
   "metadata": {},
   "outputs": [],
   "source": []
  }
 ],
 "metadata": {
  "anaconda-cloud": {},
  "kernelspec": {
   "display_name": "Python 3",
   "language": "python",
   "name": "python3"
  },
  "language_info": {
   "codemirror_mode": {
    "name": "ipython",
    "version": 3
   },
   "file_extension": ".py",
   "mimetype": "text/x-python",
   "name": "python",
   "nbconvert_exporter": "python",
   "pygments_lexer": "ipython3",
   "version": "3.6.6"
  }
 },
 "nbformat": 4,
 "nbformat_minor": 2
}

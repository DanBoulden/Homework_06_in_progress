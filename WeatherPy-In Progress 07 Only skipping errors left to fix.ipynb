{
 "cells": [
  {
   "cell_type": "markdown",
   "metadata": {},
   "source": [
    "# WeatherPy\n",
    "----\n",
    "\n",
    "### Analysis\n",
    "* As expected, the weather becomes significantly warmer as one approaches the equator (0 Deg. Latitude). More interestingly, however, is the fact that the southern hemisphere tends to be warmer this time of year than the northern hemisphere. This may be due to the tilt of the earth.\n",
    "* There is no strong relationship between latitude and cloudiness. However, it is interesting to see that a strong band of cities sits at 0, 80, and 100% cloudiness.\n",
    "* There is no strong relationship between latitude and wind speed. However, in northern hemispheres there is a flurry of cities with over 20 mph of wind.\n",
    "\n",
    "---\n",
    "\n",
    "#### Note\n",
    "* Instructions have been included for each segment. You do not have to follow them exactly, but they are included to help you think through the steps."
   ]
  },
  {
   "cell_type": "code",
   "execution_count": 1,
   "metadata": {
    "scrolled": true
   },
   "outputs": [],
   "source": [
    "# Dependencies and Setup\n",
    "import matplotlib.pyplot as plt\n",
    "import pandas as pd\n",
    "import numpy as np\n",
    "import requests\n",
    "import time\n",
    "\n",
    "\n",
    "# pip install citipy\n",
    "\n",
    "\n",
    "# Import API key\n",
    "# from config import api_keys\n",
    "import api_keys\n",
    "\n",
    "# \n",
    "# citipy = \"https://pypi.python.org/pypi/citipy\"\n",
    "# https://openweathermap.org/api\n",
    "\n",
    "# Incorporated citipy to determine city based on latitude and longitude\n",
    "from citipy import citipy\n",
    "\n",
    "# Output File (CSV)\n",
    "output_data_file = \"output_data/cities.csv\"\n",
    "final_output_data_file = \"output_data/cities_final.csv\"\n",
    "\n",
    "# Range of latitudes and longitudes\n",
    "lat_range = (-90, 90)\n",
    "lng_range = (-180, 180)"
   ]
  },
  {
   "cell_type": "code",
   "execution_count": null,
   "metadata": {},
   "outputs": [],
   "source": []
  },
  {
   "cell_type": "markdown",
   "metadata": {},
   "source": [
    "## Generate Cities List"
   ]
  },
  {
   "cell_type": "code",
   "execution_count": 2,
   "metadata": {},
   "outputs": [
    {
     "data": {
      "text/plain": [
       "598"
      ]
     },
     "execution_count": 2,
     "metadata": {},
     "output_type": "execute_result"
    }
   ],
   "source": [
    "# List for holding lat_lngs and cities\n",
    "lat_lngs = []\n",
    "cities = []\n",
    "\n",
    "# Create a set of random lat and lng combinations\n",
    "lats = np.random.uniform(low=-90.000, high=90.000, size=1500)\n",
    "lngs = np.random.uniform(low=-180.000, high=180.000, size=1500)\n",
    "lat_lngs = zip(lats, lngs)\n",
    "\n",
    "# Identify nearest city for each lat, lng combination\n",
    "for lat_lng in lat_lngs:\n",
    "    city = citipy.nearest_city(lat_lng[0], lat_lng[1]).city_name\n",
    "    \n",
    "    # If the city is unique, then add it to a our cities list\n",
    "    if city not in cities:\n",
    "        cities.append(city)\n",
    "\n",
    "# Print the city count to confirm sufficient count\n",
    "len(cities)"
   ]
  },
  {
   "cell_type": "code",
   "execution_count": 3,
   "metadata": {
    "scrolled": true
   },
   "outputs": [
    {
     "name": "stdout",
     "output_type": "stream",
     "text": [
      "['carballo', 'taolanaro', 'vaini', 'cape town', 'sao joao do paraiso', 'sentyabrskiy', 'albany', 'port-gentil', 'punta arenas', 'marawi', 'lompoc', 'mataura', 'hermanus', 'castro', 'bambous virieux', 'atuona', 'butaritari', 'olavarria', 'qaanaaq', 'busselton', 'provideniya', 'zhangye', 'bjornevatn', 'vilhena', 'nikolskoye', 'berbera', 'pevek', 'ketchikan', 'emerald', 'belushya guba', 'ponta do sol', 'indramayu', 'cabo san lucas', 'birao', 'nishihara', 'forestville', 'general pico', 'simeonovgrad', 'bredasdorp', 'lebu', 'abha', 'rikitea', 'nouadhibou', 'cedar city', 'yellowknife', 'ushuaia', 'bairiki', 'thompson', 'port elizabeth', 'hilo', 'tiksi', 'tiarei', 'maceio', 'severodvinsk', 'kavaratti', 'khatanga', 'arraial do cabo', 'bluff', 'tsihombe', 'samusu', 'nabire', 'barbar', 'nizhneyansk', 'tuktoyaktuk', 'hasaki', 'narsaq', 'kaitangata', 'banda aceh', 'avera', 'sobolevo', 'sidi ali', 'nuristan', 'olafsvik', 'guantanamo', 'bandar-e lengeh', 'luanda', 'hobart', 'barrow', 'geraldton', 'krasnoselkup', 'lagoa', 'dikson', 'namibe', 'carnarvon', 'nome', 'bilma', 'tepusteca', 'severnyy', 'port alfred', 'san juan', 'cherskiy', 'waipawa', 'magway', 'mareeba', 'umm lajj', 'puerto baquerizo moreno', 'vao', 'georgetown', 'pemberton', 'gari', 'ugoofaaru', 'praia', 'labuan', 'boguchany', 'makakilo city', 'asau', 'fortuna', 'zaozerne', 'comodoro rivadavia', 'yar-sale', 'pacific grove', 'bayir', 'sorong', 'buala', 'karauzyak', 'kapaa', 'santa maria del tule', 'kuryk', 'yerbogachen', 'ballina', 'inhambane', 'bouna', 'souillac', 'mar del plata', 'beboto', 'saskylakh', 'zhigansk', 'puerto pinasco', 'alassio', 'moba', 'new norfolk', 'alekseyevka', 'la sarre', 'jamestown', 'torbay', 'karratha', 'uribia', 'liniere', 'berlevag', 'vardo', 'amderma', 'sitka', 'mutis', 'khonuu', 'zimovniki', 'brae', 'saint-philippe', 'chokurdakh', 'ribeira grande', 'avarua', 'kahului', 'karachi', 'guerrero negro', 'batagay-alyta', 'barentsburg', 'saleaula', 'tokur', 'padilla', 'grindavik', 'hunza', 'pervomayskiy', 'marrakesh', 'bhayavadar', 'morvi', 'carnot', 'lavrentiya', 'ovalle', 'makat', 'sakaiminato', 'mounana', 'hithadhoo', 'robertsport', 'isangel', 'chagda', 'dunedin', 'bakchar', 'constitucion', 'tabou', 'puerto ayora', 'korla', 'la ronge', 'sangar', 'port hardy', 'celestun', 'matagami', 'merauke', 'katangli', 'jidong', 'san alberto', 'mbale', 'kirensk', 'grand gaube', 'natal', 'manokwari', 'suntar', 'east london', 'montepuez', 'kodiak', 'esperance', 'nanortalik', 'saldanha', 'sumbawa', 'okha', 'ilulissat', 'mehtar lam', 'faanui', 'kundiawa', 'dicamay', 'lincoln', 'kitovo', 'henties bay', 'istok', 'batemans bay', 'linapacan', 'tasiilaq', 'san jose', 'kruisfontein', 'kizema', 'simao', 'kavieng', 'pathein', 'gizo', 'bosanska kostajnica', 'upernavik', 'muswellbrook', 'luderitz', 'samsun', 'amazar', 'luangwa', 'mahebourg', 'krasnyy yar', 'hervey bay', 'vanavara', 'chuy', 'padang', 'redlands', 'nakambala', 'yuzhno-yeniseyskiy', 'ostrovnoy', 'derzhavinsk', 'oksfjord', 'carutapera', 'tigil', 'tiznit', 'meulaboh', 'strangnas', 'kokopo', 'kroderen', 'kangaatsiaq', 'maunabo', 'roma', 'pisco', 'bang saphan', 'visby', 'portland', 'talaya', 'bethel', 'mizdah', 'tadine', 'iralaya', 'faya', 'stonewall', 'codrington', 'asfi', 'morehead', 'tucurui', 'severo-kurilsk', 'bilaspur', 'mys shmidta', 'baihar', 'gat', 'namatanai', 'progreso', 'margate', 'aklavik', 'nuevitas', 'tabuk', 'bidhuna', 'goya', 'pangnirtung', 'saint george', 'callaway', 'tecoman', 'kununurra', 'abu dhabi', 'oistins', 'half moon bay', 'lorengau', 'poykovskiy', 'tottori', 'port blair', 'brewster', 'ust-barguzin', 'eureka', 'chenghai', 'burnie', 'boa vista', 'kousseri', 'cam ranh', 'san patricio', 'kushmurun', 'alice springs', 'san andres', 'mandalgovi', 'yangambi', 'concordia', 'alofi', 'saint-francois', 'talakan', 'kabo', 'cestas', 'talnakh', 'north bend', 'mount pleasant', 'husavik', 'karamay', 'komsomolskiy', 'shitanjing', 'tirumala', 'itamarandiba', 'bathsheba', 'luau', 'barawe', 'illoqqortoormiut', 'pringsewu', 'bilibino', 'los llanos de aridane', 'salalah', 'chapais', 'sibolga', 'havelock', 'attawapiskat', 'tumannyy', 'ahuimanu', 'springbok', 'zhoucheng', 'touros', 'asvanyraro', 'gaziantep', 'muskegon', 'iztapa', 'champerico', 'katsuura', 'tautira', 'gao', 'te anau', 'tilichiki', 'umzimvubu', 'mount gambier', 'gwadar', 'doctor pedro p. pena', 'rawannawi', 'coahuayana', 'hamilton', 'liverpool', 'machinga', 'cayenne', 'marshfield', 'sapa', 'bohmte', 'angoche', 'notse', 'quimper', 'coquimbo', 'formoso do araguaia', 'saint-leu', 'narkanda', 'voh', 'cidreira', 'sur', 'norman wells', 'bengkulu', 'clyde river', 'opuwo', 'beloha', 'madimba', 'spring', 'longyearbyen', 'niceville', 'kirkuk', 'mount isa', 'erenhot', 'matamoros', 'aykhal', 'nanchang', 'nantucket', 'shelabolikha', 'otane', 'manakara', 'botwood', 'inta', 'zeya', 'newcastle', 'hami', 'tucuman', 'ruston', 'dukat', 'dauphin', 'deputatskiy', 'naze', 'ankang', 'ibotirama', 'tsogni', 'krasnogorskoye', 'victoria', 'cururupu', 'labrea', 'nueva valencia', 'botshabelo', 'lata', 'atlantic city', 'klaksvik', 'alberton', 'phumi samraong', 'balabac', 'peleduy', 'yulara', 'dakar', 'duncan', 'babanusah', 'puerto escondido', 'labuhan', 'palabuhanratu', 'wajir', 'flagstaff', 'beyneu', 'monrovia', 'baykit', 'leningradskiy', 'chapleau', 'vaitupu', 'lugo', 'tabiauea', 'spanish town', 'malyn', 'coihaique', 'zyryanka', 'shizunai', 'kamenskoye', 'bemidji', 'terrasini', 'iqaluit', 'sola', 'posse', 'erzin', 'broome', 'hammerfest', 'kuri', 'lexington', 'dakoro', 'myrtle beach', 'upata', 'kimbe', 'aksarka', 'kosa', 'cochabamba', 'khani', 'abu kamal', 'ye', 'kazalinsk', 'raudeberg', 'muniz freire', 'alugan', 'buckeye', 'palaikastron', 'vaitape', 'teahupoo', 'marzuq', 'xicotencatl', 'varenikovskaya', 'stykkisholmur', 'belaya gora', 'medicine hat', 'kilindoni', 'mahajanga', 'haines junction', 'sao filipe', 'tura', 'camacha', 'cumana', 'pritzwalk', 'dunhua', 'nohar', 'sioux lookout', 'grand forks', 'arys', 'westport', 'obo', 'gonen', 'mahanoro', 'verkhnyaya inta', 'northam', 'loandjili', 'tual', 'edd', 'port lincoln', 'grand river south east', 'southbridge', 'rungata', 'salta', 'princeton', 'honningsvag', 'marsa matruh', 'saint-joseph', 'gopalpur', 'grabovo', 'wum', 'labelle', 'rize', 'taungdwingyi', 'flinders', 'wanxian', 'mahibadhoo', 'masterton', 'hihifo', 'macultepec', 'kailua', 'mayahi', 'haimen', 'safford', 'maragogi', 'ponoka', 'ossora', 'westlock', 'dawlatabad', 'porto novo', 'labytnangi', 'laibin', 'mattru', 'hutchinson', 'kirakira', 'mogadishu', 'fevralsk', 'adrar', 'klyuchi', 'aleksandrov gay', 'omboue', 'mujiayingzi', 'paka', 'kloulklubed', 'road town', 'jardim', 'ahipara', 'hertford', 'rawson', 'pimenta bueno', 'tessalit', 'nouakchott', 'huangzhou', 'pontianak', 'santa maria del oro', 'rio verde de mato grosso', 'ewa beach', 'airai', 'aksu', 'caldas novas', 'ouargaye', 'rundu', 'diamantino', 'la rioja', 'hay river', 'saint-felicien', 'waingapu', 'bayji', 'stokmarknes', 'sicamous', 'maihar', 'russell', 'wuwei', 'svetlogorsk', 'halalo', 'turukhansk', 'nobres', 'sokolovo', 'plettenberg bay', 'bodden town', 'hohoe', 'sistranda', 'mucurapo', 'broken hill', 'norsup', 'felipe carrillo puerto', 'dalvik', 'svetlyy yar', 'zhanaozen', 'vila franca do campo', 'naugarzan', 'evensk', 'naryan-mar', 'glendive', 'catamarca', 'barranca', 'awbari', 'jaciara', 'awash', 'fairbanks', 'inuvik', 'college']\n"
     ]
    }
   ],
   "source": [
    "print(cities)"
   ]
  },
  {
   "cell_type": "code",
   "execution_count": 4,
   "metadata": {},
   "outputs": [],
   "source": [
    "### Saving out the city pull [swithcer between the full and 10]\n",
    "\n",
    "# Switch the # between the next two lines to get ether all of the cities or just the first 10\n",
    "\n",
    "# all cities\n",
    "# cities_df = pd.DataFrame(cities, columns=[\"city\"])\n",
    "\n",
    "# Just the first 10 cities\n",
    "cities_df = pd.DataFrame(cities[:10], columns=[\"city\"])\n",
    "\n",
    "\n",
    "# Creates the CSV file\n",
    "cities_df.to_csv(output_data_file, header=False, index=False)"
   ]
  },
  {
   "cell_type": "markdown",
   "metadata": {},
   "source": [
    "### Perform API Calls\n",
    "* Perform a weather check on each city using a series of successive API calls.\n",
    "* Include a print log of each city as it'sbeing processed (with the city number and city name).\n"
   ]
  },
  {
   "cell_type": "code",
   "execution_count": 6,
   "metadata": {},
   "outputs": [],
   "source": [
    "import openweathermapy as owm\n",
    "import csv\n",
    "#config\n",
    "from api_keys import api_key\n",
    "\n",
    "colnames = ['city']\n",
    "data = pd.read_csv(output_data_file, names=colnames)\n",
    "cities_list = data.city.tolist()\n",
    "\n",
    "# removes the word Cities from our list\n",
    "del cities_list[0]\n",
    "# print(cities_list)\n",
    "\n",
    "# Create settings dictionary with information we're interested in\n",
    "# settings = {\"units\": \"Fahrenheit\", \"appid\": api_key}\n",
    "# settings = {\"appid\": api_key, \"&units=\": \"fahrenheit\"}\n",
    "settings = {\"units\": \"imperial\", \"appid\": api_key}\n",
    "# &units=\n",
    "# units = [\"Fahrenheit\"]\n",
    "\n",
    "# query_url = \"https://api.openweathermap.org/data/2.5/weather?q=\"\n",
    "\n",
    "url = \"https://api.openweathermap.org/data/2.5/weather?q=\"\n",
    "\n",
    "# https://samples.openweathermap.org/data/2.5/weather?q=\n",
    "# London\n",
    "# api.openweathermap.org/data/2.5/weather?q=London&appid=api_key\n",
    "\n",
    "weather_data = []\n",
    "with open(\"output_data/cities.csv\") as cities_file:\n",
    "    cities_reader = csv.reader(cities_file)\n",
    "    cities = [city[0] for city in cities_reader]\n",
    "    weather_data = [owm.get_current(city, **settings) for city in cities]\n",
    "\n",
    "# print(weather_data)    \n",
    "\n",
    "\n",
    "summary = [\"name\", \"clouds.all\", \"sys.country\", \"dt\", \"main.humidity\", \"coord.lat\", \"coord.lon\", \"main.temp_max\", \"wind.speed\"]\n",
    "data = [response(*summary) for response in weather_data]\n",
    "\n",
    "weather_data = pd.DataFrame(data)\n",
    "# weather_data = pd.DataFrame(data, index=cities)\n",
    "weather_data.columns = [\"City\", \"Cloudiness\", \"Country\", \"Date\", \"Humidity\", \"Lat\", \"Lng\", \"Max Temp\", \"Wind Speed\"]\n",
    "\n",
    "# weather_data = pd.DataFrame(data, index=False)\n",
    "# weather_data\n",
    "\n",
    "\n",
    "# api.openweathermap.org/data/2.5/weather?q=balimo\n",
    "# https://samples.openweathermap.org/data/2.5/weather?q=London&appid=b6907d289e10d714a6e88b30761fae22\n",
    "\n",
    "\n",
    "##########################################################################################\n",
    "####################### NEEDS ERROR CHECKING FOR HTTPError: ~404 #########################\n",
    "##########################################################################################"
   ]
  },
  {
   "cell_type": "markdown",
   "metadata": {},
   "source": [
    "### Convert Raw Data to DataFrame\n",
    "* Export the city data into a .csv.\n",
    "* Display the DataFrame"
   ]
  },
  {
   "cell_type": "code",
   "execution_count": 7,
   "metadata": {},
   "outputs": [],
   "source": [
    "weather_data = pd.DataFrame(data, columns=[\"City\", \"Cloudiness\", \n",
    "                                          \"Country\", \"Date\", \n",
    "                                          \"Humidity\", \"Lat\", \"Lng\", \n",
    "                                          \"Max Temp\", \"Wind Speed\"])\n",
    "weather_data.to_csv(final_output_data_file, header=True, index=False)\n",
    "\n"
   ]
  },
  {
   "cell_type": "code",
   "execution_count": 8,
   "metadata": {},
   "outputs": [
    {
     "data": {
      "text/plain": [
       "City          10\n",
       "Cloudiness    10\n",
       "Country       10\n",
       "Date          10\n",
       "Humidity      10\n",
       "Lat           10\n",
       "Lng           10\n",
       "Max Temp      10\n",
       "Wind Speed    10\n",
       "dtype: int64"
      ]
     },
     "execution_count": 8,
     "metadata": {},
     "output_type": "execute_result"
    }
   ],
   "source": [
    "weather_data.count()"
   ]
  },
  {
   "cell_type": "code",
   "execution_count": 9,
   "metadata": {},
   "outputs": [
    {
     "data": {
      "text/html": [
       "<div>\n",
       "<style scoped>\n",
       "    .dataframe tbody tr th:only-of-type {\n",
       "        vertical-align: middle;\n",
       "    }\n",
       "\n",
       "    .dataframe tbody tr th {\n",
       "        vertical-align: top;\n",
       "    }\n",
       "\n",
       "    .dataframe thead th {\n",
       "        text-align: right;\n",
       "    }\n",
       "</style>\n",
       "<table border=\"1\" class=\"dataframe\">\n",
       "  <thead>\n",
       "    <tr style=\"text-align: right;\">\n",
       "      <th></th>\n",
       "      <th>City</th>\n",
       "      <th>Cloudiness</th>\n",
       "      <th>Country</th>\n",
       "      <th>Date</th>\n",
       "      <th>Humidity</th>\n",
       "      <th>Lat</th>\n",
       "      <th>Lng</th>\n",
       "      <th>Max Temp</th>\n",
       "      <th>Wind Speed</th>\n",
       "    </tr>\n",
       "  </thead>\n",
       "  <tbody>\n",
       "    <tr>\n",
       "      <th>0</th>\n",
       "      <td>Bredasdorp</td>\n",
       "      <td>0</td>\n",
       "      <td>ZA</td>\n",
       "      <td>1546801200</td>\n",
       "      <td>68</td>\n",
       "      <td>-34.53</td>\n",
       "      <td>20.04</td>\n",
       "      <td>66.20</td>\n",
       "      <td>5.82</td>\n",
       "    </tr>\n",
       "    <tr>\n",
       "      <th>1</th>\n",
       "      <td>Puerto Escondido</td>\n",
       "      <td>20</td>\n",
       "      <td>MX</td>\n",
       "      <td>1546800300</td>\n",
       "      <td>69</td>\n",
       "      <td>15.86</td>\n",
       "      <td>-97.07</td>\n",
       "      <td>82.40</td>\n",
       "      <td>6.93</td>\n",
       "    </tr>\n",
       "    <tr>\n",
       "      <th>2</th>\n",
       "      <td>Brokopondo</td>\n",
       "      <td>40</td>\n",
       "      <td>SR</td>\n",
       "      <td>1546801200</td>\n",
       "      <td>83</td>\n",
       "      <td>5.06</td>\n",
       "      <td>-54.98</td>\n",
       "      <td>80.60</td>\n",
       "      <td>5.82</td>\n",
       "    </tr>\n",
       "    <tr>\n",
       "      <th>3</th>\n",
       "      <td>Aykhal</td>\n",
       "      <td>32</td>\n",
       "      <td>RU</td>\n",
       "      <td>1546802861</td>\n",
       "      <td>55</td>\n",
       "      <td>65.95</td>\n",
       "      <td>111.51</td>\n",
       "      <td>-12.32</td>\n",
       "      <td>5.37</td>\n",
       "    </tr>\n",
       "    <tr>\n",
       "      <th>4</th>\n",
       "      <td>Rikitea</td>\n",
       "      <td>92</td>\n",
       "      <td>PF</td>\n",
       "      <td>1546802812</td>\n",
       "      <td>98</td>\n",
       "      <td>-23.12</td>\n",
       "      <td>-134.97</td>\n",
       "      <td>79.22</td>\n",
       "      <td>9.95</td>\n",
       "    </tr>\n",
       "  </tbody>\n",
       "</table>\n",
       "</div>"
      ],
      "text/plain": [
       "               City  Cloudiness Country        Date  Humidity    Lat     Lng  \\\n",
       "0        Bredasdorp           0      ZA  1546801200        68 -34.53   20.04   \n",
       "1  Puerto Escondido          20      MX  1546800300        69  15.86  -97.07   \n",
       "2        Brokopondo          40      SR  1546801200        83   5.06  -54.98   \n",
       "3            Aykhal          32      RU  1546802861        55  65.95  111.51   \n",
       "4           Rikitea          92      PF  1546802812        98 -23.12 -134.97   \n",
       "\n",
       "   Max Temp  Wind Speed  \n",
       "0     66.20        5.82  \n",
       "1     82.40        6.93  \n",
       "2     80.60        5.82  \n",
       "3    -12.32        5.37  \n",
       "4     79.22        9.95  "
      ]
     },
     "execution_count": 9,
     "metadata": {},
     "output_type": "execute_result"
    }
   ],
   "source": [
    "weather_data.head()"
   ]
  },
  {
   "cell_type": "markdown",
   "metadata": {},
   "source": [
    "### Plotting the Data\n",
    "* Use proper labeling of the plots using plot titles (including date of analysis) and axes labels.\n",
    "* Save the plotted figures as .pngs."
   ]
  },
  {
   "cell_type": "markdown",
   "metadata": {},
   "source": [
    "#### Latitude vs. Temperature Plot"
   ]
  },
  {
   "cell_type": "code",
   "execution_count": 10,
   "metadata": {},
   "outputs": [
    {
     "data": {
      "image/png": "[encoded data removed]",
      "text/plain": [
       "<Figure size 432x288 with 1 Axes>"
      ]
     },
     "metadata": {
      "needs_background": "light"
     },
     "output_type": "display_data"
    }
   ],
   "source": [
    "## Latitude vs. Temperature Plot\n",
    "\n",
    "# Obtain the x and y coordinates for the plot\n",
    "plt.ylim(21,105)\n",
    "# plt.ylim(21,315)\n",
    "plt.xlim(-61,83)\n",
    "# Build the scatter plots for the citys\n",
    "x_axisu = weather_data[\"Lat\"]\n",
    "y_axisu = weather_data[\"Max Temp\"]\n",
    "\n",
    "# set the colors\n",
    "# temp_plot = plt.scatter(x_axisu, y_axisu, marker=\"o\", facecolors=\"lightcoral\",edgecolors=\"black\", s=10*dcu, alpha=0.75)\n",
    "temp_plot = plt.scatter(x_axisu, y_axisu, marker=\"o\", facecolors=\"plum\",edgecolors=\"black\", alpha=0.75)\n",
    "plt.grid()\n",
    "\n",
    "# add the titleing NOTE:pd.datetime.today().strftime(\"%m/%d/%Y\") calls todays date\n",
    "plt.title(\"City Latitude vs. Max Temperature (\" + pd.datetime.today().strftime(\"%m/%d/%Y\") + \")\")\n",
    "plt.xlabel(\"Latitude\")\n",
    "plt.ylabel(\"Max Temperature (F)\")\n",
    "\n",
    "\n",
    "##########################################################################################\n",
    "#######################      NEEDS conversiton to Fahrenheit     #########################\n",
    "############# When this happens change plt.ylim(21,315) back to plt.ylim(21,105) #########\n",
    "##########################################################################################\n",
    "\n",
    "plt.savefig(\"output_data/City_Latitude_vs_Max_Temperature.jpg\", bbox_inches=\"tight\")\n",
    "plt.show()"
   ]
  },
  {
   "cell_type": "markdown",
   "metadata": {},
   "source": [
    "#### Latitude vs. Humidity Plot"
   ]
  },
  {
   "cell_type": "code",
   "execution_count": 11,
   "metadata": {},
   "outputs": [
    {
     "data": {
      "image/png": "[encoded data removed]",
      "text/plain": [
       "<Figure size 432x288 with 1 Axes>"
      ]
     },
     "metadata": {
      "needs_background": "light"
     },
     "output_type": "display_data"
    }
   ],
   "source": [
    "## Latitude vs. Humidity Plot\n",
    "\n",
    "# Obtain the x and y coordinates for the plot\n",
    "plt.ylim(21,105)\n",
    "# plt.ylim(21,315)\n",
    "plt.xlim(-61,83)\n",
    "# Build the scatter plots for the citys\n",
    "x_axisu = weather_data[\"Lat\"]\n",
    "y_axisu = weather_data[\"Humidity\"]\n",
    "\n",
    "# set the colors\n",
    "# temp_plot = plt.scatter(x_axisu, y_axisu, marker=\"o\", facecolors=\"lightcoral\",edgecolors=\"black\", s=10*dcu, alpha=0.75)\n",
    "temp_plot = plt.scatter(x_axisu, y_axisu, marker=\"o\", facecolors=\"plum\",edgecolors=\"black\", alpha=0.75)\n",
    "plt.grid()\n",
    "\n",
    "# add the titleing NOTE:pd.datetime.today().strftime(\"%m/%d/%Y\") calls todays date\n",
    "plt.title(\"City Latitude vs. Humidity (\" + pd.datetime.today().strftime(\"%m/%d/%Y\") + \")\")\n",
    "plt.xlabel(\"Latitude\")\n",
    "plt.ylabel(\"Humidity (%)\")\n",
    "\n",
    "plt.savefig(\"output_data/City_Latitude_vs_Humidity.jpg\", bbox_inches=\"tight\")\n",
    "plt.show()"
   ]
  },
  {
   "cell_type": "markdown",
   "metadata": {},
   "source": [
    "#### Latitude vs. Cloudiness Plot"
   ]
  },
  {
   "cell_type": "code",
   "execution_count": 12,
   "metadata": {},
   "outputs": [
    {
     "data": {
      "image/png": "[encoded data removed]",
      "text/plain": [
       "<Figure size 432x288 with 1 Axes>"
      ]
     },
     "metadata": {
      "needs_background": "light"
     },
     "output_type": "display_data"
    }
   ],
   "source": [
    "## Latitude vs. Cloudiness Plot\n",
    "\n",
    "# Obtain the x and y coordinates for the plot\n",
    "plt.ylim(-4,105)\n",
    "plt.xlim(-61,83)\n",
    "# Build the scatter plots for the citys\n",
    "x_axisu = weather_data[\"Lat\"]\n",
    "y_axisu = weather_data[\"Cloudiness\"]\n",
    "\n",
    "# set the colors\n",
    "# temp_plot = plt.scatter(x_axisu, y_axisu, marker=\"o\", facecolors=\"lightcoral\",edgecolors=\"black\", s=10*dcu, alpha=0.75)\n",
    "temp_plot = plt.scatter(x_axisu, y_axisu, marker=\"o\", facecolors=\"plum\",edgecolors=\"black\", alpha=0.75)\n",
    "plt.grid()\n",
    "\n",
    "# add the titleing NOTE:pd.datetime.today().strftime(\"%m/%d/%Y\") calls todays date\n",
    "plt.title(\"City Latitude vs. Cloudiness (\" + pd.datetime.today().strftime(\"%m/%d/%Y\") + \")\")\n",
    "plt.xlabel(\"Latitude\")\n",
    "plt.ylabel(\"Cloudiness (%)\")\n",
    "\n",
    "plt.savefig(\"output_data/City_Latitude_vs_Cloudiness.jpg\", bbox_inches=\"tight\")\n",
    "plt.show()"
   ]
  },
  {
   "cell_type": "markdown",
   "metadata": {},
   "source": [
    "#### Latitude vs. Wind Speed Plot"
   ]
  },
  {
   "cell_type": "code",
   "execution_count": 13,
   "metadata": {},
   "outputs": [
    {
     "data": {
      "image/png": "[encoded data removed]",
      "text/plain": [
       "<Figure size 432x288 with 1 Axes>"
      ]
     },
     "metadata": {
      "needs_background": "light"
     },
     "output_type": "display_data"
    }
   ],
   "source": [
    "## Latitude vs. Wind Speed Plot\n",
    "\n",
    "# Obtain the x and y coordinates for the plot\n",
    "plt.ylim(-1,34)\n",
    "plt.xlim(-61,83)\n",
    "# Build the scatter plots for the citys\n",
    "x_axisu = weather_data[\"Lat\"]\n",
    "y_axisu = weather_data[\"Wind Speed\"]\n",
    "\n",
    "# set the colors\n",
    "# temp_plot = plt.scatter(x_axisu, y_axisu, marker=\"o\", facecolors=\"lightcoral\",edgecolors=\"black\", s=10*dcu, alpha=0.75)\n",
    "temp_plot = plt.scatter(x_axisu, y_axisu, marker=\"o\", facecolors=\"plum\",edgecolors=\"black\", alpha=0.75)\n",
    "plt.grid()\n",
    "\n",
    "# add the titleing NOTE:pd.datetime.today().strftime(\"%m/%d/%Y\") calls todays date\n",
    "plt.title(\"City Latitude vs. Wind Speed (\" + pd.datetime.today().strftime(\"%m/%d/%Y\") + \")\")\n",
    "plt.xlabel(\"Latitude\")\n",
    "plt.ylabel(\"Wind Speed (mph)\")\n",
    "\n",
    "plt.savefig(\"output_data/City_Latitude_vs_Wind_Speed.jpg\", bbox_inches=\"tight\")\n",
    "plt.show()"
   ]
  },
  {
   "cell_type": "code",
   "execution_count": null,
   "metadata": {},
   "outputs": [],
   "source": []
  },
  {
   "cell_type": "code",
   "execution_count": null,
   "metadata": {},
   "outputs": [],
   "source": []
  }
 ],
 "metadata": {
  "anaconda-cloud": {},
  "kernelspec": {
   "display_name": "Python 3",
   "language": "python",
   "name": "python3"
  },
  "language_info": {
   "codemirror_mode": {
    "name": "ipython",
    "version": 3
   },
   "file_extension": ".py",
   "mimetype": "text/x-python",
   "name": "python",
   "nbconvert_exporter": "python",
   "pygments_lexer": "ipython3",
   "version": "3.6.6"
  }
 },
 "nbformat": 4,
 "nbformat_minor": 2
}

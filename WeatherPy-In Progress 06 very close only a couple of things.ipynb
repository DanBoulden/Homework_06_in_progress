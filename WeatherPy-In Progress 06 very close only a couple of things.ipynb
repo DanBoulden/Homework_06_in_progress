{
 "cells": [
  {
   "cell_type": "markdown",
   "metadata": {},
   "source": [
    "# WeatherPy\n",
    "----\n",
    "\n",
    "### Analysis\n",
    "* As expected, the weather becomes significantly warmer as one approaches the equator (0 Deg. Latitude). More interestingly, however, is the fact that the southern hemisphere tends to be warmer this time of year than the northern hemisphere. This may be due to the tilt of the earth.\n",
    "* There is no strong relationship between latitude and cloudiness. However, it is interesting to see that a strong band of cities sits at 0, 80, and 100% cloudiness.\n",
    "* There is no strong relationship between latitude and wind speed. However, in northern hemispheres there is a flurry of cities with over 20 mph of wind.\n",
    "\n",
    "---\n",
    "\n",
    "#### Note\n",
    "* Instructions have been included for each segment. You do not have to follow them exactly, but they are included to help you think through the steps."
   ]
  },
  {
   "cell_type": "code",
   "execution_count": 1,
   "metadata": {
    "scrolled": true
   },
   "outputs": [],
   "source": [
    "# Dependencies and Setup\n",
    "import matplotlib.pyplot as plt\n",
    "import pandas as pd\n",
    "import numpy as np\n",
    "import requests\n",
    "import time\n",
    "\n",
    "\n",
    "# pip install citipy\n",
    "\n",
    "\n",
    "# Import API key\n",
    "# from config import api_keys\n",
    "import api_keys\n",
    "\n",
    "# \n",
    "# citipy = \"https://pypi.python.org/pypi/citipy\"\n",
    "# https://openweathermap.org/api\n",
    "\n",
    "# Incorporated citipy to determine city based on latitude and longitude\n",
    "from citipy import citipy\n",
    "\n",
    "# Output File (CSV)\n",
    "output_data_file = \"output_data/cities.csv\"\n",
    "final_output_data_file = \"output_data/cities_final.csv\"\n",
    "\n",
    "# Range of latitudes and longitudes\n",
    "lat_range = (-90, 90)\n",
    "lng_range = (-180, 180)"
   ]
  },
  {
   "cell_type": "code",
   "execution_count": null,
   "metadata": {},
   "outputs": [],
   "source": []
  },
  {
   "cell_type": "markdown",
   "metadata": {},
   "source": [
    "## Generate Cities List"
   ]
  },
  {
   "cell_type": "code",
   "execution_count": 2,
   "metadata": {},
   "outputs": [
    {
     "data": {
      "text/plain": [
       "622"
      ]
     },
     "execution_count": 2,
     "metadata": {},
     "output_type": "execute_result"
    }
   ],
   "source": [
    "# List for holding lat_lngs and cities\n",
    "lat_lngs = []\n",
    "cities = []\n",
    "\n",
    "# Create a set of random lat and lng combinations\n",
    "lats = np.random.uniform(low=-90.000, high=90.000, size=1500)\n",
    "lngs = np.random.uniform(low=-180.000, high=180.000, size=1500)\n",
    "lat_lngs = zip(lats, lngs)\n",
    "\n",
    "# Identify nearest city for each lat, lng combination\n",
    "for lat_lng in lat_lngs:\n",
    "    city = citipy.nearest_city(lat_lng[0], lat_lng[1]).city_name\n",
    "    \n",
    "    # If the city is unique, then add it to a our cities list\n",
    "    if city not in cities:\n",
    "        cities.append(city)\n",
    "\n",
    "# Print the city count to confirm sufficient count\n",
    "len(cities)"
   ]
  },
  {
   "cell_type": "code",
   "execution_count": 3,
   "metadata": {
    "scrolled": true
   },
   "outputs": [
    {
     "name": "stdout",
     "output_type": "stream",
     "text": [
      "['port alfred', 'barentsburg', 'new norfolk', 'woodward', 'samusu', 'georgetown', 'eureka', 'mount gambier', 'beaupre', 'busselton', 'krasnoye', 'baoshan', 'cape town', 'kaitangata', 'axim', 'palabuhanratu', 'bluff', 'mar del plata', 'mataura', 'grand centre', 'atuona', 'los algarrobos', 'bredasdorp', 'rikitea', 'skjervoy', 'talnakh', 'meadow lake', 'lexington park', 'kodiak', 'zhanakorgan', 'castro', 'ushuaia', 'iqaluit', 'puerto ayora', 'vardo', 'maningrida', 'nouakchott', 'sibolga', 'sataua', 'bardiyah', 'lamu', 'vaini', 'longyearbyen', 'dunedin', 'albany', 'margate', 'gayny', 'rio grande', 'pochinki', 'vallam', 'qaqortoq', 'amderma', 'san patricio', 'pisco', 'avarua', 'tura', 'tiksi', 'hadishahr', 'tuktoyaktuk', 'alice springs', 'salalah', 'vila velha', 'bethel', 'udhampur', 'berlevag', 'alofi', 'asau', 'vanimo', 'hobart', 'rawson', 'nagato', 'mahebourg', 'yumen', 'vegreville', 'gat', 'souillac', 'punta arenas', 'chokurdakh', 'upernavik', 'ashland', 'dakar', 'leningradskiy', 'port lincoln', 'katsuura', 'faanui', 'hermanus', 'victoria', 'san quintin', 'atoyac', 'illoqqortoormiut', 'butaritari', 'taltal', 'vestmannaeyjar', 'dalby', 'bilaspur', 'benghazi', 'hilo', 'san pedro', 'homer', 'mayo', 'abbeville', 'lasa', 'maneadero', 'kismayo', 'carnarvon', 'carauari', 'qaanaaq', 'grand river south east', 'loandjili', 'dikson', 'zonguldak', 'khatanga', 'skibbereen', 'kapaa', 'yerofey pavlovich', 'newport', 'bestobe', 'fukue', 'tumannyy', 'falun', 'chernyshevskiy', 'sambava', 'leshukonskoye', 'zverinogolovskoye', 'northam', 'wagar', 'ribeira grande', 'saint anthony', 'fare', 'sitka', 'lorengau', 'isangel', 'malwan', 'yellowknife', 'lebu', 'alta floresta', 'tabiauea', 'nikolskoye', 'araguacu', 'indiana', 'grindavik', 'provideniya', 'biak', 'beni mazar', 'port hardy', 'mys shmidta', 'konevo', 'wewak', 'alabaster', 'khromtau', 'gobabis', 'kaspiysk', 'palasa', 'viligili', 'mehamn', 'fort morgan', 'karratha', 'bambous virieux', 'khasan', 'marquette', 'ancud', 'tasiilaq', 'bang rakam', 'sayyan', 'tual', 'svetlogorsk', 'kirovskiy', 'biryusinsk', 'saldanha', 'morros', 'chesterton', 'cairns', 'fortuna', 'udachnyy', 'eyl', 'hasaki', 'geraldton', 'ca mau', 'flinders', 'mina', 'camacari', 'tombouctou', 'kulhudhuffushi', 'airai', 'saskylakh', 'mitu', 'hurghada', 'arraial do cabo', 'muyezerskiy', 'urumqi', 'milkovo', 'skagastrond', 'jamestown', 'kalmar', 'santa isabel', 'saint george', 'sao joao da barra', 'biltine', 'camacha', 'acapulco', 'mullaitivu', 'progreso', 'touba', 'seydi', 'green river', 'pochutla', 'san', 'yenagoa', 'barrow', 'poplar bluff', 'cherskiy', 'beringovskiy', 'sattahip', 'ponta delgada', 'ust-nera', 'stornoway', 'saint-philippe', 'san ramon', 'porbandar', 'santa rosa', 'hithadhoo', 'bambanglipuro', 'iskateley', 'aksarka', 'porgera', 'nanortalik', 'mentok', 'pombas', 'narsaq', 'taolanaro', 'husavik', 'attawapiskat', 'novokizhinginsk', 'formosa', 'fort nelson', 'namibe', 'ostrovnoy', 'nizhneyansk', 'tuatapere', 'san felipe', 'chuy', 'leh', 'san luis', 'los llanos de aridane', 'ilulissat', 'hirara', 'ciras', 'college', 'waipawa', 'samut sakhon', 'yongan', 'cabedelo', 'barentu', 'luderitz', 'neijiang', 'byron bay', 'wanaka', 'dingle', 'lompoc', 'chapais', 'sao filipe', 'saint-joseph', 'ahuimanu', 'mount isa', 'tsihombe', 'opuwo', 'mahajanga', 'feijo', 'asosa', 'vaitupu', 'shache', 'hazorasp', 'aleksandrovsk-sakhalinskiy', 'carndonagh', 'manzhouli', 'cayenne', 'bengkulu', 'tautira', 'cidreira', 'petropavlovsk-kamchatskiy', 'kamenka', 'sept-iles', 'touros', 'faya', 'yarada', 'kingman', 'ji-parana', 'ambon', 'kasangulu', 'hami', 'boende', 'kieta', 'clyde river', 'kabansk', 'pevek', 'veraval', 'ksenyevka', 'vidalia', 'hobyo', 'ritchie', 'yetkul', 'nanakuli', 'yelizovo', 'nguiu', 'klaksvik', 'pokrovsk', 'maniitsoq', 'berehove', 'manokwari', 'ponta do sol', 'sighisoara', 'itarema', 'phitsanulok', 'santa maria', 'napasar', 'kharan', 'kadur', 'port keats', 'aykhal', 'vetluzhskiy', 'katima mulilo', 'kununurra', 'warrington', 'vinh', 'port elizabeth', 'tarko-sale', 'nador', 'nelson bay', 'straseni', 'iquique', 'aklavik', 'igrim', 'tongling', 'nemuro', 'pangnirtung', 'san cristobal', 'kijang', 'baherden', 'east london', 'ngunguru', 'saleaula', 'mangai', 'codrington', 'tessalit', 'thompson', 'sudak', 'buariki', 'lavrentiya', 'hearst', 'naze', 'swan hill', 'oum hadjer', 'strezhevoy', 'matagami', 'lata', 'nassau', 'esperance', 'huaraz', 'ajdabiya', 'belushya guba', 'agadez', 'puerto ayacucho', 'kahului', 'takaka', 'sumbe', 'rajakhera', 'new port richey', 'teya', 'suluq', 'cabo san lucas', 'maketu', 'vrangel', 'basco', 'nardaran', 'mildura', 'barreirinhas', 'jalu', 'plaster rock', 'flin flon', 'half moon bay', 'pacific grove', 'kavieng', 'noumea', 'bandarbeyla', 'te anau', 'kedrovyy', 'ust-maya', 'wanning', 'beloha', 'miranda', 'addi ugri', 'taoudenni', 'garissa', 'coquimbo', 'aitape', 'phan rang', 'uturoa', 'emba', 'olinda', 'shitkino', 'novyy urengoy', 'maceio', 'ariquemes', 'riachao das neves', 'borlange', 'lolua', 'snasa', 'rypefjord', 'avera', 'miri', 'lemesos', 'sumenep', 'idil', 'abu samrah', 'awjilah', 'naifaru', 'sao gabriel da cachoeira', 'coulihaut', 'gondanglegi', 'shushtar', 'jinchang', 'tarudant', 'yulara', 'yueyang', 'boa vista', 'nicoya', 'murgab', 'espanola', 'tiznit', 'vostok', 'arman', 'dongsheng', 'pasighat', 'laives', 'balakhta', 'ngaoundere', 'erzin', 'adjumani', 'beisfjord', 'shchuchye', 'sao miguel do araguaia', 'hulyaypole', 'guerrero negro', 'aktas', 'westport', 'guaratinga', 'havoysund', 'carbonia', 'santa maria da vitoria', 'saint-francois', 'sarkand', 'young', 'khani', 'macheng', 'port-gentil', 'mitsamiouli', 'mokhsogollokh', 'onguday', 'marcona', 'walvis bay', 'elko', 'waingapu', 'canico', 'palaikastron', 'puerto del rosario', 'jaca', 'atar', 'kozulka', 'izhma', 'dourbali', 'san carlos', 'wufeng', 'vao', 'kang', 'hailar', 'bastia', 'rio muerto', 'svetlyy', 'puerto suarez', 'kez', 'le port', 'sur', 'uthal', 'biloela', 'jieshi', 'kungurtug', 'langarud', 'oistins', 'truth or consequences', 'sinazongwe', 'sokolo', 'minturno', 'tilichiki', 'yuli', 'phuthaditjhaba', 'chifeng', 'nishihara', 'areal', 'cap malheureux', 'hofn', 'bodden town', 'saint-augustin', 'inirida', 'zapolyarnyy', 'mogadishu', 'satitoa', 'bubaque', 'oktyabrskiy', 'koungou', 'bridlington', 'bulnes', 'olafsvik', 'cagayan de tawi-tawi', 'pereleshinskiy', 'puerto escondido', 'seymchan', 'coihaique', 'teeli', 'bathsheba', 'yabrud', 'tandil', 'baglan', 'puerto narino', 'kyshtovka', 'murowana goslina', 'tsogni', 'ayna', 'torbay', 'thunder bay', 'saint-felicien', 'whitefish', 'meybod', 'laguna', 'arkhangelsk', 'caala', 'zhangye', 'sinnamary', 'richards bay', 'panorama', 'mahaicony', 'batagay', 'kirakira', 'clinton', 'dawson creek', 'izumo', 'norman wells', 'baijiantan', 'ginir', 'moose factory', 'awbari', 'zhigansk', 'shelburne', 'zanjan', 'gazanjyk', 'ushtobe', 'baracoa', 'daru', 'karaul', 'dayong', 'kalmunai', 'louisbourg', 'bereda', 'kurchum', 'partenit', 'imeni babushkina', 'mitchell', 'black river', 'altona', 'jefferson city', 'tecolutla', 'kommunar', 'wad rawah', 'aracaju', 'zamora', 'constitucion', 'benguela', 'encruzilhada', 'galveston', 'portland', 'lima', 'hanmer springs', 'lagoa', 'esmeraldas', 'tarrafal', 'sentyabrskiy', 'elliot lake', 'vila franca do campo', 'port macquarie', 'ayan', 'vaitape', 'inverness', 'wajima', 'ostersund', 'yurty', 'khawhai', 'atasu', 'umzimvubu', 'okitipupa', 'san andres', 'severo-kurilsk', 'tazovskiy', 'prince rupert', 'diffa', 'gurgentepe', 'russell', 'cockburn town', 'maykain', 'malatya', 'linjiang', 'bar harbor', 'madison', 'acarau', 'challans', 'poya', 'broken hill', 'chandil', 'nokaneng', 'marawi', 'baniachang', 'evanston', 'soubre', 'andenes']\n"
     ]
    }
   ],
   "source": [
    "print(cities)"
   ]
  },
  {
   "cell_type": "code",
   "execution_count": 4,
   "metadata": {},
   "outputs": [],
   "source": [
    "### Saving out the city pull [swithcer between the full and 10]\n",
    "\n",
    "# Switch the # between the next two lines to get ether all of the cities or just the first 10\n",
    "\n",
    "# all cities\n",
    "# cities_df = pd.DataFrame(cities, columns=[\"city\"])\n",
    "\n",
    "# Just the first 10 cities\n",
    "cities_df = pd.DataFrame(cities[:10], columns=[\"city\"])\n",
    "\n",
    "\n",
    "# Creates the CSV file\n",
    "cities_df.to_csv(output_data_file, header=False, index=False)"
   ]
  },
  {
   "cell_type": "markdown",
   "metadata": {},
   "source": [
    "### Perform API Calls\n",
    "* Perform a weather check on each city using a series of successive API calls.\n",
    "* Include a print log of each city as it'sbeing processed (with the city number and city name).\n"
   ]
  },
  {
   "cell_type": "code",
   "execution_count": 6,
   "metadata": {},
   "outputs": [],
   "source": [
    "import openweathermapy as owm\n",
    "import csv\n",
    "#config\n",
    "from api_keys import api_key\n",
    "\n",
    "colnames = ['city']\n",
    "data = pd.read_csv(output_data_file, names=colnames)\n",
    "cities_list = data.city.tolist()\n",
    "\n",
    "# removes the word Cities from our list\n",
    "del cities_list[0]\n",
    "# print(cities_list)\n",
    "\n",
    "# Create settings dictionary with information we're interested in\n",
    "# settings = {\"units\": \"Fahrenheit\", \"appid\": api_key}\n",
    "settings = {\"appid\": api_key, \"&units=\": \"fahrenheit\"}\n",
    "# &units=\n",
    "# units = [\"Fahrenheit\"]\n",
    "\n",
    "# query_url = \"https://api.openweathermap.org/data/2.5/weather?q=\"\n",
    "\n",
    "url = \"https://api.openweathermap.org/data/2.5/weather?q=\"\n",
    "\n",
    "# https://samples.openweathermap.org/data/2.5/weather?q=\n",
    "# London\n",
    "# api.openweathermap.org/data/2.5/weather?q=London&appid=api_key\n",
    "\n",
    "weather_data = []\n",
    "with open(\"output_data/cities.csv\") as cities_file:\n",
    "    cities_reader = csv.reader(cities_file)\n",
    "    cities = [city[0] for city in cities_reader]\n",
    "    weather_data = [owm.get_current(city, **settings) for city in cities]\n",
    "\n",
    "# print(weather_data)    \n",
    "\n",
    "\n",
    "summary = [\"name\", \"clouds.all\", \"sys.country\", \"dt\", \"main.humidity\", \"coord.lat\", \"coord.lon\", \"main.temp_max\", \"wind.speed\"]\n",
    "data = [response(*summary) for response in weather_data]\n",
    "\n",
    "weather_data = pd.DataFrame(data)\n",
    "# weather_data = pd.DataFrame(data, index=cities)\n",
    "weather_data.columns = [\"City\", \"Cloudiness\", \"Country\", \"Date\", \"Humidity\", \"Lat\", \"Lng\", \"Max Temp\", \"Wind Speed\"]\n",
    "\n",
    "# weather_data = pd.DataFrame(data, index=False)\n",
    "# weather_data\n",
    "\n",
    "\n",
    "# api.openweathermap.org/data/2.5/weather?q=balimo\n",
    "# https://samples.openweathermap.org/data/2.5/weather?q=London&appid=b6907d289e10d714a6e88b30761fae22\n",
    "\n",
    "\n",
    "##########################################################################################\n",
    "####################### NEEDS ERROR CHECKING FOR HTTPError: ~404 #########################\n",
    "##########################################################################################"
   ]
  },
  {
   "cell_type": "markdown",
   "metadata": {},
   "source": [
    "### Convert Raw Data to DataFrame\n",
    "* Export the city data into a .csv.\n",
    "* Display the DataFrame"
   ]
  },
  {
   "cell_type": "code",
   "execution_count": 8,
   "metadata": {},
   "outputs": [],
   "source": [
    "weather_data = pd.DataFrame(data, columns=[\"City\", \"Cloudiness\", \n",
    "                                          \"Country\", \"Date\", \n",
    "                                          \"Humidity\", \"Lat\", \"Lng\", \n",
    "                                          \"Max Temp\", \"Wind Speed\"])\n",
    "weather_data.to_csv(final_output_data_file, header=True, index=False)\n",
    "\n"
   ]
  },
  {
   "cell_type": "code",
   "execution_count": 9,
   "metadata": {},
   "outputs": [
    {
     "data": {
      "text/plain": [
       "City          10\n",
       "Cloudiness    10\n",
       "Country       10\n",
       "Date          10\n",
       "Humidity      10\n",
       "Lat           10\n",
       "Lng           10\n",
       "Max Temp      10\n",
       "Wind Speed    10\n",
       "dtype: int64"
      ]
     },
     "execution_count": 9,
     "metadata": {},
     "output_type": "execute_result"
    }
   ],
   "source": [
    "weather_data.count()"
   ]
  },
  {
   "cell_type": "code",
   "execution_count": 10,
   "metadata": {},
   "outputs": [
    {
     "data": {
      "text/html": [
       "<div>\n",
       "<style scoped>\n",
       "    .dataframe tbody tr th:only-of-type {\n",
       "        vertical-align: middle;\n",
       "    }\n",
       "\n",
       "    .dataframe tbody tr th {\n",
       "        vertical-align: top;\n",
       "    }\n",
       "\n",
       "    .dataframe thead th {\n",
       "        text-align: right;\n",
       "    }\n",
       "</style>\n",
       "<table border=\"1\" class=\"dataframe\">\n",
       "  <thead>\n",
       "    <tr style=\"text-align: right;\">\n",
       "      <th></th>\n",
       "      <th>City</th>\n",
       "      <th>Cloudiness</th>\n",
       "      <th>Country</th>\n",
       "      <th>Date</th>\n",
       "      <th>Humidity</th>\n",
       "      <th>Lat</th>\n",
       "      <th>Lng</th>\n",
       "      <th>Max Temp</th>\n",
       "      <th>Wind Speed</th>\n",
       "    </tr>\n",
       "  </thead>\n",
       "  <tbody>\n",
       "    <tr>\n",
       "      <th>0</th>\n",
       "      <td>Bredasdorp</td>\n",
       "      <td>0</td>\n",
       "      <td>ZA</td>\n",
       "      <td>1546797600</td>\n",
       "      <td>64</td>\n",
       "      <td>-34.53</td>\n",
       "      <td>20.04</td>\n",
       "      <td>293.150</td>\n",
       "      <td>3.60</td>\n",
       "    </tr>\n",
       "    <tr>\n",
       "      <th>1</th>\n",
       "      <td>Puerto Escondido</td>\n",
       "      <td>5</td>\n",
       "      <td>MX</td>\n",
       "      <td>1546796700</td>\n",
       "      <td>69</td>\n",
       "      <td>15.86</td>\n",
       "      <td>-97.07</td>\n",
       "      <td>301.150</td>\n",
       "      <td>3.10</td>\n",
       "    </tr>\n",
       "    <tr>\n",
       "      <th>2</th>\n",
       "      <td>Brokopondo</td>\n",
       "      <td>75</td>\n",
       "      <td>SR</td>\n",
       "      <td>1546797600</td>\n",
       "      <td>78</td>\n",
       "      <td>5.06</td>\n",
       "      <td>-54.98</td>\n",
       "      <td>301.150</td>\n",
       "      <td>5.10</td>\n",
       "    </tr>\n",
       "    <tr>\n",
       "      <th>3</th>\n",
       "      <td>Aykhal</td>\n",
       "      <td>32</td>\n",
       "      <td>RU</td>\n",
       "      <td>1546801124</td>\n",
       "      <td>55</td>\n",
       "      <td>65.95</td>\n",
       "      <td>111.51</td>\n",
       "      <td>248.531</td>\n",
       "      <td>2.40</td>\n",
       "    </tr>\n",
       "    <tr>\n",
       "      <th>4</th>\n",
       "      <td>Rikitea</td>\n",
       "      <td>92</td>\n",
       "      <td>PF</td>\n",
       "      <td>1546801124</td>\n",
       "      <td>98</td>\n",
       "      <td>-23.12</td>\n",
       "      <td>-134.97</td>\n",
       "      <td>299.381</td>\n",
       "      <td>4.45</td>\n",
       "    </tr>\n",
       "  </tbody>\n",
       "</table>\n",
       "</div>"
      ],
      "text/plain": [
       "               City  Cloudiness Country        Date  Humidity    Lat     Lng  \\\n",
       "0        Bredasdorp           0      ZA  1546797600        64 -34.53   20.04   \n",
       "1  Puerto Escondido           5      MX  1546796700        69  15.86  -97.07   \n",
       "2        Brokopondo          75      SR  1546797600        78   5.06  -54.98   \n",
       "3            Aykhal          32      RU  1546801124        55  65.95  111.51   \n",
       "4           Rikitea          92      PF  1546801124        98 -23.12 -134.97   \n",
       "\n",
       "   Max Temp  Wind Speed  \n",
       "0   293.150        3.60  \n",
       "1   301.150        3.10  \n",
       "2   301.150        5.10  \n",
       "3   248.531        2.40  \n",
       "4   299.381        4.45  "
      ]
     },
     "execution_count": 10,
     "metadata": {},
     "output_type": "execute_result"
    }
   ],
   "source": [
    "weather_data.head()"
   ]
  },
  {
   "cell_type": "markdown",
   "metadata": {},
   "source": [
    "### Plotting the Data\n",
    "* Use proper labeling of the plots using plot titles (including date of analysis) and axes labels.\n",
    "* Save the plotted figures as .pngs."
   ]
  },
  {
   "cell_type": "markdown",
   "metadata": {},
   "source": [
    "#### Latitude vs. Temperature Plot"
   ]
  },
  {
   "cell_type": "code",
   "execution_count": 26,
   "metadata": {},
   "outputs": [
    {
     "data": {
      "image/png": "[encoded data removed]",
      "text/plain": [
       "<Figure size 432x288 with 1 Axes>"
      ]
     },
     "metadata": {
      "needs_background": "light"
     },
     "output_type": "display_data"
    }
   ],
   "source": [
    "## Latitude vs. Temperature Plot\n",
    "\n",
    "# Obtain the x and y coordinates for the plot\n",
    "# plt.ylim(21,105)\n",
    "plt.ylim(21,315)\n",
    "plt.xlim(-61,83)\n",
    "# Build the scatter plots for the citys\n",
    "x_axisu = weather_data[\"Lat\"]\n",
    "y_axisu = weather_data[\"Max Temp\"]\n",
    "\n",
    "# set the colors\n",
    "# temp_plot = plt.scatter(x_axisu, y_axisu, marker=\"o\", facecolors=\"lightcoral\",edgecolors=\"black\", s=10*dcu, alpha=0.75)\n",
    "temp_plot = plt.scatter(x_axisu, y_axisu, marker=\"o\", facecolors=\"plum\",edgecolors=\"black\", alpha=0.75)\n",
    "plt.grid()\n",
    "\n",
    "# add the titleing NOTE:pd.datetime.today().strftime(\"%m/%d/%Y\") calls todays date\n",
    "plt.title(\"City Latitude vs. Max Temperature (\" + pd.datetime.today().strftime(\"%m/%d/%Y\") + \")\")\n",
    "plt.xlabel(\"Latitude\")\n",
    "plt.ylabel(\"Max Temperature (F)\")\n",
    "\n",
    "\n",
    "##########################################################################################\n",
    "#######################      NEEDS conversiton to Fahrenheit     #########################\n",
    "############# When this happens change plt.ylim(21,315) back to plt.ylim(21,105) #########\n",
    "##########################################################################################\n",
    "\n",
    "plt.savefig(\"output_data/City_Latitude_vs_Max_Temperature.jpg\", bbox_inches=\"tight\")\n",
    "plt.show()"
   ]
  },
  {
   "cell_type": "markdown",
   "metadata": {},
   "source": [
    "#### Latitude vs. Humidity Plot"
   ]
  },
  {
   "cell_type": "code",
   "execution_count": 25,
   "metadata": {},
   "outputs": [
    {
     "data": {
      "image/png": "[encoded data removed]",
      "text/plain": [
       "<Figure size 432x288 with 1 Axes>"
      ]
     },
     "metadata": {
      "needs_background": "light"
     },
     "output_type": "display_data"
    }
   ],
   "source": [
    "## Latitude vs. Humidity Plot\n",
    "\n",
    "# Obtain the x and y coordinates for the plot\n",
    "plt.ylim(21,105)\n",
    "# plt.ylim(21,315)\n",
    "plt.xlim(-61,83)\n",
    "# Build the scatter plots for the citys\n",
    "x_axisu = weather_data[\"Lat\"]\n",
    "y_axisu = weather_data[\"Humidity\"]\n",
    "\n",
    "# set the colors\n",
    "# temp_plot = plt.scatter(x_axisu, y_axisu, marker=\"o\", facecolors=\"lightcoral\",edgecolors=\"black\", s=10*dcu, alpha=0.75)\n",
    "temp_plot = plt.scatter(x_axisu, y_axisu, marker=\"o\", facecolors=\"plum\",edgecolors=\"black\", alpha=0.75)\n",
    "plt.grid()\n",
    "\n",
    "# add the titleing NOTE:pd.datetime.today().strftime(\"%m/%d/%Y\") calls todays date\n",
    "plt.title(\"City Latitude vs. Humidity (\" + pd.datetime.today().strftime(\"%m/%d/%Y\") + \")\")\n",
    "plt.xlabel(\"Latitude\")\n",
    "plt.ylabel(\"Humidity (%)\")\n",
    "\n",
    "plt.savefig(\"output_data/City_Latitude_vs_Humidity.jpg\", bbox_inches=\"tight\")\n",
    "plt.show()"
   ]
  },
  {
   "cell_type": "markdown",
   "metadata": {},
   "source": [
    "#### Latitude vs. Cloudiness Plot"
   ]
  },
  {
   "cell_type": "code",
   "execution_count": 24,
   "metadata": {},
   "outputs": [
    {
     "data": {
      "image/png": "[encoded data removed]",
      "text/plain": [
       "<Figure size 432x288 with 1 Axes>"
      ]
     },
     "metadata": {
      "needs_background": "light"
     },
     "output_type": "display_data"
    }
   ],
   "source": [
    "## Latitude vs. Cloudiness Plot\n",
    "\n",
    "# Obtain the x and y coordinates for the plot\n",
    "plt.ylim(-4,105)\n",
    "plt.xlim(-61,83)\n",
    "# Build the scatter plots for the citys\n",
    "x_axisu = weather_data[\"Lat\"]\n",
    "y_axisu = weather_data[\"Cloudiness\"]\n",
    "\n",
    "# set the colors\n",
    "# temp_plot = plt.scatter(x_axisu, y_axisu, marker=\"o\", facecolors=\"lightcoral\",edgecolors=\"black\", s=10*dcu, alpha=0.75)\n",
    "temp_plot = plt.scatter(x_axisu, y_axisu, marker=\"o\", facecolors=\"plum\",edgecolors=\"black\", alpha=0.75)\n",
    "plt.grid()\n",
    "\n",
    "# add the titleing NOTE:pd.datetime.today().strftime(\"%m/%d/%Y\") calls todays date\n",
    "plt.title(\"City Latitude vs. Cloudiness (\" + pd.datetime.today().strftime(\"%m/%d/%Y\") + \")\")\n",
    "plt.xlabel(\"Latitude\")\n",
    "plt.ylabel(\"Cloudiness (%)\")\n",
    "\n",
    "plt.savefig(\"output_data/City_Latitude_vs_Cloudiness.jpg\", bbox_inches=\"tight\")\n",
    "plt.show()"
   ]
  },
  {
   "cell_type": "markdown",
   "metadata": {},
   "source": [
    "#### Latitude vs. Wind Speed Plot"
   ]
  },
  {
   "cell_type": "code",
   "execution_count": 23,
   "metadata": {},
   "outputs": [
    {
     "data": {
      "image/png": "[encoded data removed]",
      "text/plain": [
       "<Figure size 432x288 with 1 Axes>"
      ]
     },
     "metadata": {
      "needs_background": "light"
     },
     "output_type": "display_data"
    }
   ],
   "source": [
    "## Latitude vs. Wind Speed Plot\n",
    "\n",
    "# Obtain the x and y coordinates for the plot\n",
    "plt.ylim(-1,34)\n",
    "plt.xlim(-61,83)\n",
    "# Build the scatter plots for the citys\n",
    "x_axisu = weather_data[\"Lat\"]\n",
    "y_axisu = weather_data[\"Wind Speed\"]\n",
    "\n",
    "# set the colors\n",
    "# temp_plot = plt.scatter(x_axisu, y_axisu, marker=\"o\", facecolors=\"lightcoral\",edgecolors=\"black\", s=10*dcu, alpha=0.75)\n",
    "temp_plot = plt.scatter(x_axisu, y_axisu, marker=\"o\", facecolors=\"plum\",edgecolors=\"black\", alpha=0.75)\n",
    "plt.grid()\n",
    "\n",
    "# add the titleing NOTE:pd.datetime.today().strftime(\"%m/%d/%Y\") calls todays date\n",
    "plt.title(\"City Latitude vs. Wind Speed (\" + pd.datetime.today().strftime(\"%m/%d/%Y\") + \")\")\n",
    "plt.xlabel(\"Latitude\")\n",
    "plt.ylabel(\"Wind Speed (mph)\")\n",
    "\n",
    "plt.savefig(\"output_data/City_Latitude_vs_Wind_Speed.jpg\", bbox_inches=\"tight\")\n",
    "plt.show()"
   ]
  },
  {
   "cell_type": "code",
   "execution_count": null,
   "metadata": {},
   "outputs": [],
   "source": []
  },
  {
   "cell_type": "code",
   "execution_count": null,
   "metadata": {},
   "outputs": [],
   "source": []
  }
 ],
 "metadata": {
  "anaconda-cloud": {},
  "kernelspec": {
   "display_name": "Python 3",
   "language": "python",
   "name": "python3"
  },
  "language_info": {
   "codemirror_mode": {
    "name": "ipython",
    "version": 3
   },
   "file_extension": ".py",
   "mimetype": "text/x-python",
   "name": "python",
   "nbconvert_exporter": "python",
   "pygments_lexer": "ipython3",
   "version": "3.6.6"
  }
 },
 "nbformat": 4,
 "nbformat_minor": 2
}
